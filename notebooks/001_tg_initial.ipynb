{
 "cells": [
  {
   "cell_type": "markdown",
   "metadata": {},
   "source": [
    "# 002_Post_Get_Organized\n",
    "## Project by Tomasz Gusciora\n",
    "## Visit my website: https://tgusciora.github.io/\n",
    "## or my Substack: https://demistyfai.substack.com/\n",
    "## or my github: https://github.com/TGusciora\n",
    "\n",
    "In this project I will share some concepts of analytical projects organization for:\n",
    "* ease of management\n",
    "* possible automations\n",
    "* use of standardized folder structure\n",
    "* future reproducibility\n"
   ]
  },
  {
   "cell_type": "markdown",
   "metadata": {},
   "source": [
    "### I. Packages import, notebook options, environment variables"
   ]
  },
  {
   "cell_type": "code",
   "execution_count": 1,
   "metadata": {},
   "outputs": [
    {
     "name": "stdout",
     "output_type": "stream",
     "text": [
      "Contents of paths dictionary:\n",
      "data :  /app/data/\n",
      "docs :  /app/docs/\n",
      "models :  /app/models/\n",
      "notebooks :  /app/notebooks/\n",
      "references :  /app/references/\n",
      "reports :  /app/reports/\n",
      "src :  /app/src/\n",
      "app :  /app/\n",
      "data_external :  /app/data/external/\n",
      "data_interim :  /app/data/interim/\n",
      "data_processed :  /app/data/processed/\n",
      "data_raw :  /app/data/raw/\n",
      "reports_figures :  /app/reports/figures/\n",
      "src_data :  /app/src/data/\n",
      "src_features :  /app/src/features/\n",
      "src_models :  /app/src/models/\n",
      "src_utils :  /app/src/utils/\n",
      "src_visualization :  /app/src/visualization/\n"
     ]
    }
   ],
   "source": [
    "# import packages - \\src\\utils\\start_wrapper.py\n",
    "from src.utils.start_wrapper import *\n",
    "\n",
    "# enable autoreload - that way you don't have to reload modules, when you change them\n",
    "wrapper_notebook_settings()\n",
    "\n",
    "# Load dictionary of project paths\n",
    "# crawler from parent directory\n",
    "import src.utils.paths\n",
    "paths = src.utils.paths.paths_dictionary()\n",
    "print(\"Contents of paths dictionary:\")\n",
    "for key in paths:\n",
    "    print(key, \": \", paths[key])\n",
    "\n",
    "\n",
    "# Project specific modules (reusable!)\n",
    "import src.data.make_dataset\n",
    "import src.utils.df_inspect\n",
    "import src.visualization.visualize\n",
    "\n",
    "# Load environment variables - safe way to load sensitive data\n",
    "import dotenv\n",
    "import os\n",
    "dotenv.load_dotenv(os.path.join(os.path.dirname(os.getcwd()), '.env'))\n",
    "\n",
    "# Why I dont have packages in utils.start_wrapper? Because pylint wouldn't recognize them\n",
    "#  basic packages\n",
    "import pandas as pd\n",
    "import numpy as np\n",
    "import matplotlib.pyplot as plt\n",
    "import datetime as dt\n",
    "\n",
    "# project specific packages\n",
    "import urllib.request\n",
    "import sklearn as sk\n",
    "from sklearn import metrics\n",
    "\n",
    "# FB (Hi Mark) module for forecasting\n",
    "from prophet import Prophet\n",
    "from prophet.serialize import model_to_json, model_from_json"
   ]
  },
  {
   "cell_type": "markdown",
   "metadata": {},
   "source": [
    "### II. Parameters section\n",
    "This is where all your modifyable parameters for the notebook should be"
   ]
  },
  {
   "cell_type": "code",
   "execution_count": 2,
   "metadata": {},
   "outputs": [],
   "source": [
    "seed = 123  # random seed for reproducibility of results\n",
    "forecast_days = 7  # number of days to forecast\n",
    "start_date = '1984-09-07'\n",
    "end_date = '2024-02-27'\n",
    "stock = 'aapl.us'\n",
    "model_name = 'm001_tg_appl'\n",
    "\n",
    "np.random.seed(seed)  # setting random number generator in numpy for reproducibility of results"
   ]
  },
  {
   "cell_type": "code",
   "execution_count": 3,
   "metadata": {},
   "outputs": [
    {
     "data": {
      "text/plain": [
       "'S0_S3cR3T'"
      ]
     },
     "execution_count": 3,
     "metadata": {},
     "output_type": "execute_result"
    }
   ],
   "source": [
    "# Kids, don't do this at home\n",
    "# example of calling environment variable\n",
    "os.environ['secret_apiKey']"
   ]
  },
  {
   "cell_type": "markdown",
   "metadata": {},
   "source": [
    "### III. Obtain, save and inspect raw Data\n",
    "\n",
    "Do not meddle with raw data. This is why kittens end up in hell.\n",
    "\n",
    "Raw data is there untouched so:\n",
    "1) You can always reference back to it for checking your data processing quality\n",
    "2) You can reproduce same analysis in the future and obtain same results (except for some experiments where random seed or stochastic processes are not controlllable, but still)\n",
    "3) Just don't do it. https://www.youtube.com/watch?v=otCpCn0l4Wo"
   ]
  },
  {
   "cell_type": "code",
   "execution_count": 4,
   "metadata": {},
   "outputs": [],
   "source": [
    "# Load data from Stooq using user-written function\n",
    "data_in = src.data.make_dataset.stooqData(stock)\n",
    "\n",
    "# Save data to csv\n",
    "data_in.to_csv(paths['data_raw']+stock+'.csv', index=False) "
   ]
  },
  {
   "cell_type": "code",
   "execution_count": 5,
   "metadata": {},
   "outputs": [
    {
     "name": "stdout",
     "output_type": "stream",
     "text": [
      "DataFrame Info:\n",
      "<class 'pandas.core.frame.DataFrame'>\n",
      "RangeIndex: 9949 entries, 0 to 9948\n",
      "Data columns (total 6 columns):\n",
      " #   Column  Non-Null Count  Dtype         \n",
      "---  ------  --------------  -----         \n",
      " 0   date    9949 non-null   datetime64[ns]\n",
      " 1   open    9949 non-null   float64       \n",
      " 2   high    9949 non-null   float64       \n",
      " 3   low     9949 non-null   float64       \n",
      " 4   close   9949 non-null   float64       \n",
      " 5   volume  9949 non-null   float64       \n",
      "dtypes: datetime64[ns](1), float64(5)\n",
      "memory usage: 466.5 KB\n",
      "None \n",
      "\n",
      "First 5 Rows of the DataFrame:\n",
      "        date      open      high       low     close        volume\n",
      "0 1984-09-07  0.100763  0.101999  0.099546  0.100763  9.767604e+07\n",
      "1 1984-09-10  0.100763  0.101071  0.098340  0.100165  7.581254e+07\n",
      "2 1984-09-11  0.101071  0.103814  0.101071  0.101999  1.787705e+08\n",
      "3 1984-09-12  0.101999  0.102597  0.098928  0.098928  1.561713e+08\n",
      "4 1984-09-13  0.104432  0.104730  0.104432  0.104432  2.432310e+08 \n",
      "\n",
      "Last 5 Rows of the DataFrame:\n",
      "           date    open      high     low   close       volume\n",
      "9944 2024-02-23  185.01  185.0400  182.23  182.52   45119677.0\n",
      "9945 2024-02-26  182.24  182.7600  180.65  181.16   40867421.0\n",
      "9946 2024-02-27  181.10  183.9225  179.56  182.63   54318851.0\n",
      "9947 2024-02-28  182.51  183.1200  180.13  181.42   48953939.0\n",
      "9948 2024-02-29  181.27  182.5700  179.53  180.75  136682597.0 \n",
      "\n",
      "The DataFrame has 9949 rows and 6 columns.\n",
      "\n",
      "The primary key for the DataFrame is: date\n",
      "\n"
     ]
    },
    {
     "data": {
      "text/plain": [
       "<src.utils.df_inspect.DataFrameInspector at 0x7fc3ca8dccd0>"
      ]
     },
     "execution_count": 5,
     "metadata": {},
     "output_type": "execute_result"
    }
   ],
   "source": [
    "src.utils.df_inspect.DataFrameInspector(data_in)"
   ]
  },
  {
   "cell_type": "code",
   "execution_count": 6,
   "metadata": {},
   "outputs": [
    {
     "data": {
      "text/html": [
       "<div>\n",
       "<style scoped>\n",
       "    .dataframe tbody tr th:only-of-type {\n",
       "        vertical-align: middle;\n",
       "    }\n",
       "\n",
       "    .dataframe tbody tr th {\n",
       "        vertical-align: top;\n",
       "    }\n",
       "\n",
       "    .dataframe thead th {\n",
       "        text-align: right;\n",
       "    }\n",
       "</style>\n",
       "<table border=\"1\" class=\"dataframe\">\n",
       "  <thead>\n",
       "    <tr style=\"text-align: right;\">\n",
       "      <th></th>\n",
       "      <th>date</th>\n",
       "      <th>open</th>\n",
       "      <th>high</th>\n",
       "      <th>low</th>\n",
       "      <th>close</th>\n",
       "      <th>volume</th>\n",
       "    </tr>\n",
       "  </thead>\n",
       "  <tbody>\n",
       "    <tr>\n",
       "      <th>7495</th>\n",
       "      <td>2014-06-02</td>\n",
       "      <td>20.1924</td>\n",
       "      <td>20.2184</td>\n",
       "      <td>19.8275</td>\n",
       "      <td>20.0229</td>\n",
       "      <td>4.139481e+08</td>\n",
       "    </tr>\n",
       "    <tr>\n",
       "      <th>7496</th>\n",
       "      <td>2014-06-03</td>\n",
       "      <td>20.0169</td>\n",
       "      <td>20.3430</td>\n",
       "      <td>20.0120</td>\n",
       "      <td>20.3050</td>\n",
       "      <td>3.283111e+08</td>\n",
       "    </tr>\n",
       "    <tr>\n",
       "      <th>7497</th>\n",
       "      <td>2014-06-04</td>\n",
       "      <td>20.3021</td>\n",
       "      <td>20.6381</td>\n",
       "      <td>20.2592</td>\n",
       "      <td>20.5383</td>\n",
       "      <td>3.760571e+08</td>\n",
       "    </tr>\n",
       "    <tr>\n",
       "      <th>7498</th>\n",
       "      <td>2014-06-05</td>\n",
       "      <td>20.5833</td>\n",
       "      <td>20.6849</td>\n",
       "      <td>20.4675</td>\n",
       "      <td>20.6201</td>\n",
       "      <td>3.404549e+08</td>\n",
       "    </tr>\n",
       "    <tr>\n",
       "      <th>7499</th>\n",
       "      <td>2014-06-06</td>\n",
       "      <td>20.7009</td>\n",
       "      <td>20.7427</td>\n",
       "      <td>20.5273</td>\n",
       "      <td>20.5623</td>\n",
       "      <td>3.926505e+08</td>\n",
       "    </tr>\n",
       "    <tr>\n",
       "      <th>7500</th>\n",
       "      <td>2014-06-09</td>\n",
       "      <td>20.6699</td>\n",
       "      <td>20.9292</td>\n",
       "      <td>20.4566</td>\n",
       "      <td>20.8892</td>\n",
       "      <td>3.377682e+08</td>\n",
       "    </tr>\n",
       "    <tr>\n",
       "      <th>7501</th>\n",
       "      <td>2014-06-10</td>\n",
       "      <td>21.1216</td>\n",
       "      <td>21.1933</td>\n",
       "      <td>20.8614</td>\n",
       "      <td>21.0119</td>\n",
       "      <td>2.813494e+08</td>\n",
       "    </tr>\n",
       "    <tr>\n",
       "      <th>7502</th>\n",
       "      <td>2014-06-11</td>\n",
       "      <td>20.9860</td>\n",
       "      <td>21.1276</td>\n",
       "      <td>20.8394</td>\n",
       "      <td>20.9252</td>\n",
       "      <td>2.046828e+08</td>\n",
       "    </tr>\n",
       "    <tr>\n",
       "      <th>7503</th>\n",
       "      <td>2014-06-12</td>\n",
       "      <td>20.9630</td>\n",
       "      <td>20.9840</td>\n",
       "      <td>20.4895</td>\n",
       "      <td>20.5783</td>\n",
       "      <td>2.453256e+08</td>\n",
       "    </tr>\n",
       "    <tr>\n",
       "      <th>7504</th>\n",
       "      <td>2014-06-13</td>\n",
       "      <td>20.5583</td>\n",
       "      <td>20.6111</td>\n",
       "      <td>20.2612</td>\n",
       "      <td>20.3499</td>\n",
       "      <td>2.444800e+08</td>\n",
       "    </tr>\n",
       "    <tr>\n",
       "      <th>7505</th>\n",
       "      <td>2014-06-16</td>\n",
       "      <td>20.4028</td>\n",
       "      <td>20.6809</td>\n",
       "      <td>20.3888</td>\n",
       "      <td>20.5583</td>\n",
       "      <td>1.594105e+08</td>\n",
       "    </tr>\n",
       "    <tr>\n",
       "      <th>7506</th>\n",
       "      <td>2014-06-17</td>\n",
       "      <td>20.5823</td>\n",
       "      <td>20.6699</td>\n",
       "      <td>20.4665</td>\n",
       "      <td>20.5303</td>\n",
       "      <td>1.332488e+08</td>\n",
       "    </tr>\n",
       "    <tr>\n",
       "      <th>7507</th>\n",
       "      <td>2014-06-18</td>\n",
       "      <td>20.5733</td>\n",
       "      <td>20.5783</td>\n",
       "      <td>20.3659</td>\n",
       "      <td>20.5533</td>\n",
       "      <td>1.502425e+08</td>\n",
       "    </tr>\n",
       "    <tr>\n",
       "      <th>7508</th>\n",
       "      <td>2014-06-19</td>\n",
       "      <td>20.5783</td>\n",
       "      <td>20.5803</td>\n",
       "      <td>20.3639</td>\n",
       "      <td>20.4805</td>\n",
       "      <td>1.592637e+08</td>\n",
       "    </tr>\n",
       "    <tr>\n",
       "      <th>7509</th>\n",
       "      <td>2014-06-20</td>\n",
       "      <td>20.4785</td>\n",
       "      <td>20.6361</td>\n",
       "      <td>20.2652</td>\n",
       "      <td>20.2682</td>\n",
       "      <td>4.523406e+08</td>\n",
       "    </tr>\n",
       "    <tr>\n",
       "      <th>7510</th>\n",
       "      <td>2014-06-23</td>\n",
       "      <td>20.3589</td>\n",
       "      <td>20.4267</td>\n",
       "      <td>20.1994</td>\n",
       "      <td>20.2492</td>\n",
       "      <td>1.958925e+08</td>\n",
       "    </tr>\n",
       "    <tr>\n",
       "      <th>7511</th>\n",
       "      <td>2014-06-24</td>\n",
       "      <td>20.2322</td>\n",
       "      <td>20.4536</td>\n",
       "      <td>20.1096</td>\n",
       "      <td>20.1286</td>\n",
       "      <td>1.750492e+08</td>\n",
       "    </tr>\n",
       "    <tr>\n",
       "      <th>7512</th>\n",
       "      <td>2014-06-25</td>\n",
       "      <td>20.1136</td>\n",
       "      <td>20.2204</td>\n",
       "      <td>19.9890</td>\n",
       "      <td>20.1456</td>\n",
       "      <td>1.653147e+08</td>\n",
       "    </tr>\n",
       "    <tr>\n",
       "      <th>7513</th>\n",
       "      <td>2014-06-26</td>\n",
       "      <td>20.1486</td>\n",
       "      <td>20.2991</td>\n",
       "      <td>20.0219</td>\n",
       "      <td>20.2652</td>\n",
       "      <td>1.462550e+08</td>\n",
       "    </tr>\n",
       "    <tr>\n",
       "      <th>7514</th>\n",
       "      <td>2014-06-27</td>\n",
       "      <td>20.2472</td>\n",
       "      <td>20.5125</td>\n",
       "      <td>20.2362</td>\n",
       "      <td>20.5085</td>\n",
       "      <td>2.871052e+08</td>\n",
       "    </tr>\n",
       "    <tr>\n",
       "      <th>7515</th>\n",
       "      <td>2014-06-30</td>\n",
       "      <td>20.5343</td>\n",
       "      <td>20.8932</td>\n",
       "      <td>20.5323</td>\n",
       "      <td>20.7188</td>\n",
       "      <td>2.223634e+08</td>\n",
       "    </tr>\n",
       "  </tbody>\n",
       "</table>\n",
       "</div>"
      ],
      "text/plain": [
       "           date     open     high      low    close        volume\n",
       "7495 2014-06-02  20.1924  20.2184  19.8275  20.0229  4.139481e+08\n",
       "7496 2014-06-03  20.0169  20.3430  20.0120  20.3050  3.283111e+08\n",
       "7497 2014-06-04  20.3021  20.6381  20.2592  20.5383  3.760571e+08\n",
       "7498 2014-06-05  20.5833  20.6849  20.4675  20.6201  3.404549e+08\n",
       "7499 2014-06-06  20.7009  20.7427  20.5273  20.5623  3.926505e+08\n",
       "7500 2014-06-09  20.6699  20.9292  20.4566  20.8892  3.377682e+08\n",
       "7501 2014-06-10  21.1216  21.1933  20.8614  21.0119  2.813494e+08\n",
       "7502 2014-06-11  20.9860  21.1276  20.8394  20.9252  2.046828e+08\n",
       "7503 2014-06-12  20.9630  20.9840  20.4895  20.5783  2.453256e+08\n",
       "7504 2014-06-13  20.5583  20.6111  20.2612  20.3499  2.444800e+08\n",
       "7505 2014-06-16  20.4028  20.6809  20.3888  20.5583  1.594105e+08\n",
       "7506 2014-06-17  20.5823  20.6699  20.4665  20.5303  1.332488e+08\n",
       "7507 2014-06-18  20.5733  20.5783  20.3659  20.5533  1.502425e+08\n",
       "7508 2014-06-19  20.5783  20.5803  20.3639  20.4805  1.592637e+08\n",
       "7509 2014-06-20  20.4785  20.6361  20.2652  20.2682  4.523406e+08\n",
       "7510 2014-06-23  20.3589  20.4267  20.1994  20.2492  1.958925e+08\n",
       "7511 2014-06-24  20.2322  20.4536  20.1096  20.1286  1.750492e+08\n",
       "7512 2014-06-25  20.1136  20.2204  19.9890  20.1456  1.653147e+08\n",
       "7513 2014-06-26  20.1486  20.2991  20.0219  20.2652  1.462550e+08\n",
       "7514 2014-06-27  20.2472  20.5125  20.2362  20.5085  2.871052e+08\n",
       "7515 2014-06-30  20.5343  20.8932  20.5323  20.7188  2.223634e+08"
      ]
     },
     "execution_count": 6,
     "metadata": {},
     "output_type": "execute_result"
    }
   ],
   "source": [
    "# Checking wheter close price is adjusted for stock splits or not\n",
    "# Apple had 7:1 stock split in 2014-06-09\n",
    "data_in[(data_in[\"date\"].dt.year == 2014) & (data_in[\"date\"].dt.month == 6)]\n",
    "\n",
    "# Close price is adjusted"
   ]
  },
  {
   "cell_type": "markdown",
   "metadata": {},
   "source": [
    "### IV. Data manipulation\n",
    "\n",
    "As we each time download data from Stooq and we receive new observations, we want to limit them to set dates for analysis.  \n",
    "For production purposes this wouldn't be the case as we would probably let our model to absorb new data everyday and correct its predictions based on ground truth (actual data)."
   ]
  },
  {
   "cell_type": "code",
   "execution_count": null,
   "metadata": {},
   "outputs": [],
   "source": [
    "# Limit analysis to set-up dates in parameters\n",
    "data_in = data_in[data_in[\"date\"] >= start_date & (data_in[\"date\"] <= end_date)]"
   ]
  },
  {
   "cell_type": "markdown",
   "metadata": {},
   "source": [
    "### V. Train and test split\n",
    "\n",
    "Train - sample on which our forecasting model will train itself  \n",
    "Test - sample on which we will test quality of our models prediction  \n",
    "  \n",
    "Prophet (Hi Mark) requires us to set date variable as 'ds' and variable that we want to predict as 'y'.  \n",
    "Otherwise it won't work."
   ]
  },
  {
   "cell_type": "code",
   "execution_count": 7,
   "metadata": {},
   "outputs": [
    {
     "data": {
      "text/plain": [
       "'train dataset size:'"
      ]
     },
     "metadata": {},
     "output_type": "display_data"
    },
    {
     "data": {
      "text/plain": [
       "(9942, 2)"
      ]
     },
     "metadata": {},
     "output_type": "display_data"
    },
    {
     "data": {
      "text/plain": [
       "'train dataset size:'"
      ]
     },
     "metadata": {},
     "output_type": "display_data"
    },
    {
     "data": {
      "text/plain": [
       "(7, 2)"
      ]
     },
     "metadata": {},
     "output_type": "display_data"
    }
   ],
   "source": [
    "# Train and test split - forecast_days last observations are used as test set\n",
    "\n",
    "train = data_in[['date', 'close']][:-forecast_days].copy()  \n",
    "train.columns = ['ds', 'y']\n",
    "display('train dataset size:', train.shape)\n",
    "\n",
    "test = data_in[['date', 'close']][-forecast_days:].copy()\n",
    "test.columns = ['ds', 'y']  \n",
    "display('train dataset size:', test.shape)"
   ]
  },
  {
   "cell_type": "code",
   "execution_count": 26,
   "metadata": {},
   "outputs": [
    {
     "data": {
      "text/html": [
       "<div>\n",
       "<style scoped>\n",
       "    .dataframe tbody tr th:only-of-type {\n",
       "        vertical-align: middle;\n",
       "    }\n",
       "\n",
       "    .dataframe tbody tr th {\n",
       "        vertical-align: top;\n",
       "    }\n",
       "\n",
       "    .dataframe thead th {\n",
       "        text-align: right;\n",
       "    }\n",
       "</style>\n",
       "<table border=\"1\" class=\"dataframe\">\n",
       "  <thead>\n",
       "    <tr style=\"text-align: right;\">\n",
       "      <th></th>\n",
       "      <th>ds</th>\n",
       "      <th>y</th>\n",
       "    </tr>\n",
       "  </thead>\n",
       "  <tbody>\n",
       "    <tr>\n",
       "      <th>9937</th>\n",
       "      <td>2024-02-13</td>\n",
       "      <td>185.04</td>\n",
       "    </tr>\n",
       "    <tr>\n",
       "      <th>9938</th>\n",
       "      <td>2024-02-14</td>\n",
       "      <td>184.15</td>\n",
       "    </tr>\n",
       "    <tr>\n",
       "      <th>9939</th>\n",
       "      <td>2024-02-15</td>\n",
       "      <td>183.86</td>\n",
       "    </tr>\n",
       "    <tr>\n",
       "      <th>9940</th>\n",
       "      <td>2024-02-16</td>\n",
       "      <td>182.31</td>\n",
       "    </tr>\n",
       "    <tr>\n",
       "      <th>9941</th>\n",
       "      <td>2024-02-20</td>\n",
       "      <td>181.56</td>\n",
       "    </tr>\n",
       "  </tbody>\n",
       "</table>\n",
       "</div>"
      ],
      "text/plain": [
       "             ds       y\n",
       "9937 2024-02-13  185.04\n",
       "9938 2024-02-14  184.15\n",
       "9939 2024-02-15  183.86\n",
       "9940 2024-02-16  182.31\n",
       "9941 2024-02-20  181.56"
      ]
     },
     "execution_count": 26,
     "metadata": {},
     "output_type": "execute_result"
    }
   ],
   "source": [
    "# last observations of training dataset\n",
    "train.tail()"
   ]
  },
  {
   "cell_type": "code",
   "execution_count": 27,
   "metadata": {},
   "outputs": [
    {
     "data": {
      "text/html": [
       "<div>\n",
       "<style scoped>\n",
       "    .dataframe tbody tr th:only-of-type {\n",
       "        vertical-align: middle;\n",
       "    }\n",
       "\n",
       "    .dataframe tbody tr th {\n",
       "        vertical-align: top;\n",
       "    }\n",
       "\n",
       "    .dataframe thead th {\n",
       "        text-align: right;\n",
       "    }\n",
       "</style>\n",
       "<table border=\"1\" class=\"dataframe\">\n",
       "  <thead>\n",
       "    <tr style=\"text-align: right;\">\n",
       "      <th></th>\n",
       "      <th>ds</th>\n",
       "      <th>y</th>\n",
       "    </tr>\n",
       "  </thead>\n",
       "  <tbody>\n",
       "    <tr>\n",
       "      <th>9942</th>\n",
       "      <td>2024-02-21</td>\n",
       "      <td>182.32</td>\n",
       "    </tr>\n",
       "    <tr>\n",
       "      <th>9943</th>\n",
       "      <td>2024-02-22</td>\n",
       "      <td>184.37</td>\n",
       "    </tr>\n",
       "    <tr>\n",
       "      <th>9944</th>\n",
       "      <td>2024-02-23</td>\n",
       "      <td>182.52</td>\n",
       "    </tr>\n",
       "    <tr>\n",
       "      <th>9945</th>\n",
       "      <td>2024-02-26</td>\n",
       "      <td>181.16</td>\n",
       "    </tr>\n",
       "    <tr>\n",
       "      <th>9946</th>\n",
       "      <td>2024-02-27</td>\n",
       "      <td>182.63</td>\n",
       "    </tr>\n",
       "    <tr>\n",
       "      <th>9947</th>\n",
       "      <td>2024-02-28</td>\n",
       "      <td>181.42</td>\n",
       "    </tr>\n",
       "    <tr>\n",
       "      <th>9948</th>\n",
       "      <td>2024-02-29</td>\n",
       "      <td>180.75</td>\n",
       "    </tr>\n",
       "  </tbody>\n",
       "</table>\n",
       "</div>"
      ],
      "text/plain": [
       "             ds       y\n",
       "9942 2024-02-21  182.32\n",
       "9943 2024-02-22  184.37\n",
       "9944 2024-02-23  182.52\n",
       "9945 2024-02-26  181.16\n",
       "9946 2024-02-27  182.63\n",
       "9947 2024-02-28  181.42\n",
       "9948 2024-02-29  180.75"
      ]
     },
     "execution_count": 27,
     "metadata": {},
     "output_type": "execute_result"
    }
   ],
   "source": [
    "# our test dataset contents\n",
    "test"
   ]
  },
  {
   "cell_type": "markdown",
   "metadata": {},
   "source": [
    "### VI. Train model"
   ]
  },
  {
   "cell_type": "code",
   "execution_count": 28,
   "metadata": {},
   "outputs": [
    {
     "name": "stderr",
     "output_type": "stream",
     "text": [
      "07:33:07 - cmdstanpy - INFO - Chain [1] start processing\n",
      "07:33:13 - cmdstanpy - INFO - Chain [1] done processing\n"
     ]
    },
    {
     "data": {
      "text/plain": [
       "<prophet.forecaster.Prophet at 0x7fc3c99d7590>"
      ]
     },
     "execution_count": 28,
     "metadata": {},
     "output_type": "execute_result"
    }
   ],
   "source": [
    "m = Prophet()\n",
    "m.fit(train)"
   ]
  },
  {
   "cell_type": "markdown",
   "metadata": {},
   "source": [
    "### VII. Use model to forecast the future"
   ]
  },
  {
   "cell_type": "code",
   "execution_count": 11,
   "metadata": {},
   "outputs": [
    {
     "data": {
      "text/html": [
       "<div>\n",
       "<style scoped>\n",
       "    .dataframe tbody tr th:only-of-type {\n",
       "        vertical-align: middle;\n",
       "    }\n",
       "\n",
       "    .dataframe tbody tr th {\n",
       "        vertical-align: top;\n",
       "    }\n",
       "\n",
       "    .dataframe thead th {\n",
       "        text-align: right;\n",
       "    }\n",
       "</style>\n",
       "<table border=\"1\" class=\"dataframe\">\n",
       "  <thead>\n",
       "    <tr style=\"text-align: right;\">\n",
       "      <th></th>\n",
       "      <th>ds</th>\n",
       "    </tr>\n",
       "  </thead>\n",
       "  <tbody>\n",
       "    <tr>\n",
       "      <th>9942</th>\n",
       "      <td>2024-02-21</td>\n",
       "    </tr>\n",
       "    <tr>\n",
       "      <th>9943</th>\n",
       "      <td>2024-02-22</td>\n",
       "    </tr>\n",
       "    <tr>\n",
       "      <th>9944</th>\n",
       "      <td>2024-02-23</td>\n",
       "    </tr>\n",
       "    <tr>\n",
       "      <th>9947</th>\n",
       "      <td>2024-02-26</td>\n",
       "    </tr>\n",
       "    <tr>\n",
       "      <th>9948</th>\n",
       "      <td>2024-02-27</td>\n",
       "    </tr>\n",
       "    <tr>\n",
       "      <th>9949</th>\n",
       "      <td>2024-02-28</td>\n",
       "    </tr>\n",
       "    <tr>\n",
       "      <th>9950</th>\n",
       "      <td>2024-02-29</td>\n",
       "    </tr>\n",
       "    <tr>\n",
       "      <th>9951</th>\n",
       "      <td>2024-03-01</td>\n",
       "    </tr>\n",
       "    <tr>\n",
       "      <th>9954</th>\n",
       "      <td>2024-03-04</td>\n",
       "    </tr>\n",
       "    <tr>\n",
       "      <th>9955</th>\n",
       "      <td>2024-03-05</td>\n",
       "    </tr>\n",
       "  </tbody>\n",
       "</table>\n",
       "</div>"
      ],
      "text/plain": [
       "             ds\n",
       "9942 2024-02-21\n",
       "9943 2024-02-22\n",
       "9944 2024-02-23\n",
       "9947 2024-02-26\n",
       "9948 2024-02-27\n",
       "9949 2024-02-28\n",
       "9950 2024-02-29\n",
       "9951 2024-03-01\n",
       "9954 2024-03-04\n",
       "9955 2024-03-05"
      ]
     },
     "execution_count": 11,
     "metadata": {},
     "output_type": "execute_result"
    }
   ],
   "source": [
    "future = m.make_future_dataframe(periods=2*forecast_days)\n",
    "future = future[future['ds'].dt.dayofweek < 5] # exclude weekends\n",
    "future.tail(10)"
   ]
  },
  {
   "cell_type": "code",
   "execution_count": 12,
   "metadata": {},
   "outputs": [
    {
     "data": {
      "text/html": [
       "<div>\n",
       "<style scoped>\n",
       "    .dataframe tbody tr th:only-of-type {\n",
       "        vertical-align: middle;\n",
       "    }\n",
       "\n",
       "    .dataframe tbody tr th {\n",
       "        vertical-align: top;\n",
       "    }\n",
       "\n",
       "    .dataframe thead th {\n",
       "        text-align: right;\n",
       "    }\n",
       "</style>\n",
       "<table border=\"1\" class=\"dataframe\">\n",
       "  <thead>\n",
       "    <tr style=\"text-align: right;\">\n",
       "      <th></th>\n",
       "      <th>ds</th>\n",
       "      <th>yhat</th>\n",
       "      <th>yhat_lower</th>\n",
       "      <th>yhat_upper</th>\n",
       "    </tr>\n",
       "  </thead>\n",
       "  <tbody>\n",
       "    <tr>\n",
       "      <th>9947</th>\n",
       "      <td>2024-02-28</td>\n",
       "      <td>184.727371</td>\n",
       "      <td>175.296039</td>\n",
       "      <td>194.807630</td>\n",
       "    </tr>\n",
       "    <tr>\n",
       "      <th>9948</th>\n",
       "      <td>2024-02-29</td>\n",
       "      <td>184.702075</td>\n",
       "      <td>174.823064</td>\n",
       "      <td>194.324389</td>\n",
       "    </tr>\n",
       "    <tr>\n",
       "      <th>9949</th>\n",
       "      <td>2024-03-01</td>\n",
       "      <td>184.638441</td>\n",
       "      <td>174.518492</td>\n",
       "      <td>194.279794</td>\n",
       "    </tr>\n",
       "    <tr>\n",
       "      <th>9950</th>\n",
       "      <td>2024-03-04</td>\n",
       "      <td>184.779338</td>\n",
       "      <td>175.196429</td>\n",
       "      <td>194.923320</td>\n",
       "    </tr>\n",
       "    <tr>\n",
       "      <th>9951</th>\n",
       "      <td>2024-03-05</td>\n",
       "      <td>184.837862</td>\n",
       "      <td>174.236508</td>\n",
       "      <td>194.817533</td>\n",
       "    </tr>\n",
       "  </tbody>\n",
       "</table>\n",
       "</div>"
      ],
      "text/plain": [
       "             ds        yhat  yhat_lower  yhat_upper\n",
       "9947 2024-02-28  184.727371  175.296039  194.807630\n",
       "9948 2024-02-29  184.702075  174.823064  194.324389\n",
       "9949 2024-03-01  184.638441  174.518492  194.279794\n",
       "9950 2024-03-04  184.779338  175.196429  194.923320\n",
       "9951 2024-03-05  184.837862  174.236508  194.817533"
      ]
     },
     "execution_count": 12,
     "metadata": {},
     "output_type": "execute_result"
    }
   ],
   "source": [
    "# Predict the future\n",
    "forecast = m.predict(future)\n",
    "\n",
    "# yhat - forecasted value\n",
    "# yhat_lower - lower bound of forecast (uncertainty interval)\n",
    "# yhat_upper - upper bound of forecast (uncertainty interval)\n",
    "# https://facebook.github.io/prophet/docs/uncertainty_intervals.html\n",
    "forecast[['ds', 'yhat', 'yhat_lower', 'yhat_upper']].tail()"
   ]
  },
  {
   "cell_type": "markdown",
   "metadata": {},
   "source": [
    "### VII. Evaluate models prediction"
   ]
  },
  {
   "cell_type": "code",
   "execution_count": 14,
   "metadata": {},
   "outputs": [
    {
     "data": {
      "text/html": [
       "<div>\n",
       "<style scoped>\n",
       "    .dataframe tbody tr th:only-of-type {\n",
       "        vertical-align: middle;\n",
       "    }\n",
       "\n",
       "    .dataframe tbody tr th {\n",
       "        vertical-align: top;\n",
       "    }\n",
       "\n",
       "    .dataframe thead th {\n",
       "        text-align: right;\n",
       "    }\n",
       "</style>\n",
       "<table border=\"1\" class=\"dataframe\">\n",
       "  <thead>\n",
       "    <tr style=\"text-align: right;\">\n",
       "      <th></th>\n",
       "      <th>ds</th>\n",
       "      <th>y</th>\n",
       "      <th>yhat</th>\n",
       "      <th>yhat_lower</th>\n",
       "      <th>yhat_upper</th>\n",
       "    </tr>\n",
       "  </thead>\n",
       "  <tbody>\n",
       "    <tr>\n",
       "      <th>2</th>\n",
       "      <td>2024-02-23</td>\n",
       "      <td>182.52</td>\n",
       "      <td>184.585043</td>\n",
       "      <td>174.054111</td>\n",
       "      <td>194.948884</td>\n",
       "    </tr>\n",
       "    <tr>\n",
       "      <th>3</th>\n",
       "      <td>2024-02-26</td>\n",
       "      <td>181.16</td>\n",
       "      <td>184.657451</td>\n",
       "      <td>174.139474</td>\n",
       "      <td>195.538237</td>\n",
       "    </tr>\n",
       "    <tr>\n",
       "      <th>4</th>\n",
       "      <td>2024-02-27</td>\n",
       "      <td>182.63</td>\n",
       "      <td>184.686778</td>\n",
       "      <td>174.133211</td>\n",
       "      <td>194.767959</td>\n",
       "    </tr>\n",
       "    <tr>\n",
       "      <th>5</th>\n",
       "      <td>2024-02-28</td>\n",
       "      <td>181.42</td>\n",
       "      <td>184.727371</td>\n",
       "      <td>175.296039</td>\n",
       "      <td>194.807630</td>\n",
       "    </tr>\n",
       "    <tr>\n",
       "      <th>6</th>\n",
       "      <td>2024-02-29</td>\n",
       "      <td>180.75</td>\n",
       "      <td>184.702075</td>\n",
       "      <td>174.823064</td>\n",
       "      <td>194.324389</td>\n",
       "    </tr>\n",
       "  </tbody>\n",
       "</table>\n",
       "</div>"
      ],
      "text/plain": [
       "          ds       y        yhat  yhat_lower  yhat_upper\n",
       "2 2024-02-23  182.52  184.585043  174.054111  194.948884\n",
       "3 2024-02-26  181.16  184.657451  174.139474  195.538237\n",
       "4 2024-02-27  182.63  184.686778  174.133211  194.767959\n",
       "5 2024-02-28  181.42  184.727371  175.296039  194.807630\n",
       "6 2024-02-29  180.75  184.702075  174.823064  194.324389"
      ]
     },
     "execution_count": 14,
     "metadata": {},
     "output_type": "execute_result"
    }
   ],
   "source": [
    "# Compare ground truth y with forecast yhat\n",
    "test_forecast = test.merge(forecast[['ds', 'yhat', 'yhat_lower', 'yhat_upper']], on='ds', how='left')\n",
    "test_forecast.tail()"
   ]
  },
  {
   "cell_type": "code",
   "execution_count": 15,
   "metadata": {},
   "outputs": [],
   "source": [
    "full_sample = pd.concat([train, test_forecast], ignore_index=True, sort=False)\n",
    "full_sample = full_sample[full_sample['y'].notnull()] # remove rows without ground truth"
   ]
  },
  {
   "cell_type": "code",
   "execution_count": 16,
   "metadata": {},
   "outputs": [
    {
     "data": {
      "text/html": [
       "<div>\n",
       "<style scoped>\n",
       "    .dataframe tbody tr th:only-of-type {\n",
       "        vertical-align: middle;\n",
       "    }\n",
       "\n",
       "    .dataframe tbody tr th {\n",
       "        vertical-align: top;\n",
       "    }\n",
       "\n",
       "    .dataframe thead th {\n",
       "        text-align: right;\n",
       "    }\n",
       "</style>\n",
       "<table border=\"1\" class=\"dataframe\">\n",
       "  <thead>\n",
       "    <tr style=\"text-align: right;\">\n",
       "      <th></th>\n",
       "      <th>ds</th>\n",
       "      <th>y</th>\n",
       "      <th>yhat</th>\n",
       "      <th>yhat_lower</th>\n",
       "      <th>yhat_upper</th>\n",
       "    </tr>\n",
       "  </thead>\n",
       "  <tbody>\n",
       "    <tr>\n",
       "      <th>9935</th>\n",
       "      <td>2024-02-09</td>\n",
       "      <td>188.85</td>\n",
       "      <td>NaN</td>\n",
       "      <td>NaN</td>\n",
       "      <td>NaN</td>\n",
       "    </tr>\n",
       "    <tr>\n",
       "      <th>9936</th>\n",
       "      <td>2024-02-12</td>\n",
       "      <td>187.15</td>\n",
       "      <td>NaN</td>\n",
       "      <td>NaN</td>\n",
       "      <td>NaN</td>\n",
       "    </tr>\n",
       "    <tr>\n",
       "      <th>9937</th>\n",
       "      <td>2024-02-13</td>\n",
       "      <td>185.04</td>\n",
       "      <td>NaN</td>\n",
       "      <td>NaN</td>\n",
       "      <td>NaN</td>\n",
       "    </tr>\n",
       "    <tr>\n",
       "      <th>9938</th>\n",
       "      <td>2024-02-14</td>\n",
       "      <td>184.15</td>\n",
       "      <td>NaN</td>\n",
       "      <td>NaN</td>\n",
       "      <td>NaN</td>\n",
       "    </tr>\n",
       "    <tr>\n",
       "      <th>9939</th>\n",
       "      <td>2024-02-15</td>\n",
       "      <td>183.86</td>\n",
       "      <td>NaN</td>\n",
       "      <td>NaN</td>\n",
       "      <td>NaN</td>\n",
       "    </tr>\n",
       "    <tr>\n",
       "      <th>9940</th>\n",
       "      <td>2024-02-16</td>\n",
       "      <td>182.31</td>\n",
       "      <td>NaN</td>\n",
       "      <td>NaN</td>\n",
       "      <td>NaN</td>\n",
       "    </tr>\n",
       "    <tr>\n",
       "      <th>9941</th>\n",
       "      <td>2024-02-20</td>\n",
       "      <td>181.56</td>\n",
       "      <td>NaN</td>\n",
       "      <td>NaN</td>\n",
       "      <td>NaN</td>\n",
       "    </tr>\n",
       "    <tr>\n",
       "      <th>9942</th>\n",
       "      <td>2024-02-21</td>\n",
       "      <td>182.32</td>\n",
       "      <td>184.700019</td>\n",
       "      <td>173.881461</td>\n",
       "      <td>194.645714</td>\n",
       "    </tr>\n",
       "    <tr>\n",
       "      <th>9943</th>\n",
       "      <td>2024-02-22</td>\n",
       "      <td>184.37</td>\n",
       "      <td>184.663865</td>\n",
       "      <td>174.726378</td>\n",
       "      <td>195.093603</td>\n",
       "    </tr>\n",
       "    <tr>\n",
       "      <th>9944</th>\n",
       "      <td>2024-02-23</td>\n",
       "      <td>182.52</td>\n",
       "      <td>184.585043</td>\n",
       "      <td>174.054111</td>\n",
       "      <td>194.948884</td>\n",
       "    </tr>\n",
       "    <tr>\n",
       "      <th>9945</th>\n",
       "      <td>2024-02-26</td>\n",
       "      <td>181.16</td>\n",
       "      <td>184.657451</td>\n",
       "      <td>174.139474</td>\n",
       "      <td>195.538237</td>\n",
       "    </tr>\n",
       "    <tr>\n",
       "      <th>9946</th>\n",
       "      <td>2024-02-27</td>\n",
       "      <td>182.63</td>\n",
       "      <td>184.686778</td>\n",
       "      <td>174.133211</td>\n",
       "      <td>194.767959</td>\n",
       "    </tr>\n",
       "    <tr>\n",
       "      <th>9947</th>\n",
       "      <td>2024-02-28</td>\n",
       "      <td>181.42</td>\n",
       "      <td>184.727371</td>\n",
       "      <td>175.296039</td>\n",
       "      <td>194.807630</td>\n",
       "    </tr>\n",
       "    <tr>\n",
       "      <th>9948</th>\n",
       "      <td>2024-02-29</td>\n",
       "      <td>180.75</td>\n",
       "      <td>184.702075</td>\n",
       "      <td>174.823064</td>\n",
       "      <td>194.324389</td>\n",
       "    </tr>\n",
       "  </tbody>\n",
       "</table>\n",
       "</div>"
      ],
      "text/plain": [
       "             ds       y        yhat  yhat_lower  yhat_upper\n",
       "9935 2024-02-09  188.85         NaN         NaN         NaN\n",
       "9936 2024-02-12  187.15         NaN         NaN         NaN\n",
       "9937 2024-02-13  185.04         NaN         NaN         NaN\n",
       "9938 2024-02-14  184.15         NaN         NaN         NaN\n",
       "9939 2024-02-15  183.86         NaN         NaN         NaN\n",
       "9940 2024-02-16  182.31         NaN         NaN         NaN\n",
       "9941 2024-02-20  181.56         NaN         NaN         NaN\n",
       "9942 2024-02-21  182.32  184.700019  173.881461  194.645714\n",
       "9943 2024-02-22  184.37  184.663865  174.726378  195.093603\n",
       "9944 2024-02-23  182.52  184.585043  174.054111  194.948884\n",
       "9945 2024-02-26  181.16  184.657451  174.139474  195.538237\n",
       "9946 2024-02-27  182.63  184.686778  174.133211  194.767959\n",
       "9947 2024-02-28  181.42  184.727371  175.296039  194.807630\n",
       "9948 2024-02-29  180.75  184.702075  174.823064  194.324389"
      ]
     },
     "execution_count": 16,
     "metadata": {},
     "output_type": "execute_result"
    }
   ],
   "source": [
    "full_sample.tail(2*forecast_days)"
   ]
  },
  {
   "cell_type": "code",
   "execution_count": 17,
   "metadata": {},
   "outputs": [
    {
     "data": {
      "image/png": "[encoded data removed]",
      "text/plain": [
       "<Figure size 1200x600 with 1 Axes>"
      ]
     },
     "metadata": {},
     "output_type": "display_data"
    }
   ],
   "source": [
    "# Plotting\n",
    "src.visualization.visualize.prophet_plot_forecast(data = full_sample, title = stock, obs = forecast_days)\n"
   ]
  },
  {
   "cell_type": "code",
   "execution_count": 18,
   "metadata": {},
   "outputs": [],
   "source": [
    "# Export full dataset\n",
    "full_sample.to_csv(paths['data_processed']+'forecast_full_sample.csv', index=False) "
   ]
  },
  {
   "cell_type": "code",
   "execution_count": 19,
   "metadata": {},
   "outputs": [
    {
     "data": {
      "image/png": "[encoded data removed]",
      "text/plain": [
       "<Figure size 800x600 with 1 Axes>"
      ]
     },
     "metadata": {},
     "output_type": "display_data"
    }
   ],
   "source": [
    "# Prediction errors\n",
    "src.visualization.visualize.plot_forecast_error(data = full_sample, title = 'AAPL', path = paths['reports_figures'])\n",
    "\n",
    "# image of a poor prophet\n",
    "# bad prophet, bad"
   ]
  },
  {
   "cell_type": "markdown",
   "metadata": {},
   "source": [
    "### IX. Exporting your model for future use\n",
    "\n",
    "For Prophet (Hi Mark) there can be problems with pickling -> hence we use serialization\n",
    "https://facebook.github.io/prophet/docs/serialization.html"
   ]
  },
  {
   "cell_type": "code",
   "execution_count": 20,
   "metadata": {},
   "outputs": [],
   "source": [
    "# Python serializing\n",
    "\n",
    "\n",
    "with open(paths['models'] + model_name + '.json', 'w') as fout:\n",
    "    fout.write(model_to_json(m))  # Save model"
   ]
  },
  {
   "cell_type": "code",
   "execution_count": 21,
   "metadata": {},
   "outputs": [],
   "source": [
    "with open(paths['models'] + model_name + '.json', 'r') as fin:\n",
    "    m_test = model_from_json(fin.read())  # Load model"
   ]
  },
  {
   "cell_type": "markdown",
   "metadata": {},
   "source": [
    "### X. Check if your re-loaded model predicts same values as the old one"
   ]
  },
  {
   "cell_type": "code",
   "execution_count": 22,
   "metadata": {},
   "outputs": [
    {
     "name": "stdout",
     "output_type": "stream",
     "text": [
      "Are the two DataFrames the same? True\n"
     ]
    }
   ],
   "source": [
    "np.random.seed(seed) # we have to set random seed again - checked empirically\n",
    "forecast_check = m_test.predict(future)\n",
    "\n",
    "# Assuming df1 and df2 are your DataFrames\n",
    "import pandas.testing\n",
    "try:\n",
    "    pandas.testing.assert_frame_equal(forecast, forecast_check)\n",
    "    are_completely_same = True\n",
    "except AssertionError:\n",
    "    are_completely_same = False\n",
    "print(f\"Are the two DataFrames the same? {are_completely_same}\")\n",
    "\n",
    "# confidence intervals yhat_lower and yhat_uppe would be different if we wouldnt set np.random.seed(seed) to constant value"
   ]
  },
  {
   "cell_type": "markdown",
   "metadata": {},
   "source": [
    "https://github.com/facebook/prophet/issues/1124\n",
    "\n",
    "Stochasticity comes in the prediction stage, and derives entirely from the trend uncertainty estimation. Increasing uncertainty_samples reduces variance in yhat_upper but it is still stochastic."
   ]
  }
 ],
 "metadata": {
  "kernelspec": {
   "display_name": "Python 3",
   "language": "python",
   "name": "python3"
  },
  "language_info": {
   "codemirror_mode": {
    "name": "ipython",
    "version": 3
   },
   "file_extension": ".py",
   "mimetype": "text/x-python",
   "name": "python",
   "nbconvert_exporter": "python",
   "pygments_lexer": "ipython3",
   "version": "3.11.8"
  }
 },
 "nbformat": 4,
 "nbformat_minor": 2
}
