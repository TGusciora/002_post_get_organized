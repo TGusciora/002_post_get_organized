{
 "cells": [
  {
   "cell_type": "markdown",
   "metadata": {},
   "source": [
    "# 002_Post_Get_Organized\n",
    "## Project by Tomasz Gusciora\n",
    "## Visit my website: https://tgusciora.github.io/\n",
    "## or my Substack: https://demistyfai.substack.com/\n",
    "## or my Github: https://github.com/TGusciora\n",
    "\n",
    "In this project I will share some concepts of analytical projects organization for:\n",
    "* ease of management\n",
    "* possible automations\n",
    "* use of standardized folder structure\n",
    "* future reproducibility\n"
   ]
  },
  {
   "cell_type": "markdown",
   "metadata": {},
   "source": [
    "### I. Packages import, notebook options, environment variables"
   ]
  },
  {
   "cell_type": "code",
   "execution_count": 1,
   "metadata": {},
   "outputs": [
    {
     "name": "stdout",
     "output_type": "stream",
     "text": [
      "Contents of paths dictionary:\n",
      "data :  /app/data/\n",
      "docs :  /app/docs/\n",
      "models :  /app/models/\n",
      "notebooks :  /app/notebooks/\n",
      "references :  /app/references/\n",
      "reports :  /app/reports/\n",
      "src :  /app/src/\n",
      "app :  /app/\n",
      "data_external :  /app/data/external/\n",
      "data_interim :  /app/data/interim/\n",
      "data_processed :  /app/data/processed/\n",
      "data_raw :  /app/data/raw/\n",
      "reports_figures :  /app/reports/figures/\n",
      "src_data :  /app/src/data/\n",
      "src_features :  /app/src/features/\n",
      "src_models :  /app/src/models/\n",
      "src_utils :  /app/src/utils/\n",
      "src_visualization :  /app/src/visualization/\n"
     ]
    }
   ],
   "source": [
    "# Import project package, all subpackages and modules\n",
    "import src\n",
    "\n",
    "# Load dictionary of project paths\n",
    "# Crawler from parent directory\n",
    "paths = src.utils.paths.paths_dictionary()\n",
    "print(\"Contents of paths dictionary:\")\n",
    "for key in paths:\n",
    "    print(key, \": \", paths[key])\n",
    "\n",
    "# Load environment variables - safe way to load sensitive data\n",
    "import dotenv\n",
    "import os\n",
    "\n",
    "dotenv.load_dotenv(os.path.join(os.path.dirname(os.getcwd()), \".env\"))\n",
    "\n",
    "# Basic packages\n",
    "import numpy as np\n",
    "\n",
    "# Pandas and display settings\n",
    "# Pandas.testing for dataframes comparison\n",
    "import pandas as pd\n",
    "import pandas.testing\n",
    "\n",
    "pd.options.display.max_columns = 300\n",
    "pd.options.display.max_rows = 100\n",
    "pd.options.display.max_colwidth = 250\n",
    "pd.options.display.float_format = \"{:,.2f}\".format\n",
    "\n",
    "# Clean code formatter & linter - use in terminal\n",
    "# import ruff\n",
    "\n",
    "# FB (Hi Mark) module for forecasting\n",
    "from prophet import Prophet\n",
    "from prophet.serialize import model_to_json, model_from_json"
   ]
  },
  {
   "cell_type": "code",
   "execution_count": 2,
   "metadata": {},
   "outputs": [],
   "source": [
    "# Enable autoreload - that way you don't have to reload modules, when you change them\n",
    "# Enable matplotlib inline display\n",
    "src.utils.start_wrapper.wrapper_notebook_settings()"
   ]
  },
  {
   "cell_type": "code",
   "execution_count": 3,
   "metadata": {},
   "outputs": [],
   "source": [
    "# Check what versions of packages are you using and save them\n",
    "!pip freeze > './requirements_snapshot.txt'"
   ]
  },
  {
   "cell_type": "code",
   "execution_count": 4,
   "metadata": {},
   "outputs": [
    {
     "name": "stdout",
     "output_type": "stream",
     "text": [
      "Custom requirements.txt generated successfully at /app/notebooks/requirements_versions.txt\n"
     ]
    }
   ],
   "source": [
    "# Call the function to generate requirements file with strong specifiers\n",
    "# Needs: 1) all necessary imports done before that cell\n",
    "# 2) all necessary packages mentioned in /project_folder/requirements.txt\n",
    "src.utils.requirements_versions.requirements_versions()"
   ]
  },
  {
   "cell_type": "markdown",
   "metadata": {},
   "source": [
    "### II. Parameters section\n",
    "This is where all your modifyable parameters for the notebook should be"
   ]
  },
  {
   "cell_type": "code",
   "execution_count": 5,
   "metadata": {},
   "outputs": [],
   "source": [
    "# stock name in stooq.com required format\n",
    "stock = \"aapl.us\"\n",
    "start_date = \"1984-09-07\"\n",
    "end_date = \"2024-03-06\"\n",
    "# Number of days to forecast\n",
    "forecast_days = 7\n",
    "\n",
    "# Prophet (Hi Mark) forecast model name\n",
    "model_name = \"m001_tg_appl\"\n",
    "# Random seed for reproducibility of results in stochastic processes\n",
    "seed = 123\n",
    "np.random.seed(seed)"
   ]
  },
  {
   "cell_type": "code",
   "execution_count": 6,
   "metadata": {},
   "outputs": [
    {
     "data": {
      "text/plain": [
       "'S0_S3cR3T'"
      ]
     },
     "execution_count": 6,
     "metadata": {},
     "output_type": "execute_result"
    }
   ],
   "source": [
    "api_key = os.environ[\"secret_apiKey\"]\n",
    "# Kids, don't do this at home\n",
    "os.environ[\"secret_apiKey\"]"
   ]
  },
  {
   "cell_type": "markdown",
   "metadata": {},
   "source": [
    "### III. Data import and inspection\n",
    "\n",
    "Do not meddle with raw data. This is why kittens end up in hell.\n",
    "\n",
    "Raw data is there untouched so:\n",
    "1) You can always reference back to it for checking your data processing quality\n",
    "2) You can reproduce same analysis in the future and obtain same results (except for some experiments where random seed or stochastic processes are not controlllable, but still)\n",
    "3) Just don't do it. https://www.youtube.com/watch?v=otCpCn0l4Wo"
   ]
  },
  {
   "cell_type": "code",
   "execution_count": 14,
   "metadata": {},
   "outputs": [
    {
     "name": "stdout",
     "output_type": "stream",
     "text": [
      "Loading data from /app/data/raw/aapl.us.csv\n"
     ]
    }
   ],
   "source": [
    "# Load data from Stooq using user-written function\n",
    "data_in = src.data.make_dataset.stooq_import(stock, paths['data_raw'])\n",
    "\n",
    "# Save data to csv\n",
    "# data_in.to_csv(paths[\"data_raw\"] + stock + \".csv\", index=False)"
   ]
  },
  {
   "cell_type": "code",
   "execution_count": 16,
   "metadata": {},
   "outputs": [
    {
     "name": "stdout",
     "output_type": "stream",
     "text": [
      "The DataFrame has 9967 rows and 6 columns.\n",
      "\n",
      "The primary key for the DataFrame is: date\n",
      "\n",
      "DataFrame Info:\n",
      "<class 'pandas.core.frame.DataFrame'>\n",
      "RangeIndex: 9967 entries, 0 to 9966\n",
      "Data columns (total 6 columns):\n",
      " #   Column  Non-Null Count  Dtype         \n",
      "---  ------  --------------  -----         \n",
      " 0   date    9967 non-null   datetime64[ns]\n",
      " 1   open    9967 non-null   float64       \n",
      " 2   high    9967 non-null   float64       \n",
      " 3   low     9967 non-null   float64       \n",
      " 4   close   9967 non-null   float64       \n",
      " 5   volume  9967 non-null   float64       \n",
      "dtypes: datetime64[ns](1), float64(5)\n",
      "memory usage: 467.3 KB\n",
      "None \n",
      "\n",
      "First 5 Rows of the DataFrame:\n",
      "        date  open  high  low  close         volume\n",
      "0 1984-09-07  0.10  0.10 0.10   0.10  97,676,041.84\n",
      "1 1984-09-10  0.10  0.10 0.10   0.10  75,812,543.28\n",
      "2 1984-09-11  0.10  0.10 0.10   0.10 178,770,477.03\n",
      "3 1984-09-12  0.10  0.10 0.10   0.10 156,171,258.20\n",
      "4 1984-09-13  0.10  0.10 0.10   0.10 243,230,959.40 \n",
      "\n",
      "Last 5 Rows of the DataFrame:\n",
      "           date   open   high    low  close         volume\n",
      "9962 2024-03-20 175.72 178.67 175.09 178.67  53,423,102.00\n",
      "9963 2024-03-21 177.05 177.49 170.84 171.37 106,181,270.00\n",
      "9964 2024-03-22 171.76 173.05 170.06 172.28  71,160,138.00\n",
      "9965 2024-03-25 170.56 171.94 169.45 170.85  54,288,328.00\n",
      "9966 2024-03-26 170.00 171.42 169.58 169.71  57,388,449.00 \n",
      "\n"
     ]
    },
    {
     "data": {
      "text/plain": [
       "<src.utils.df_inspect.DataFrameInspector at 0x7fb6b0b8a8d0>"
      ]
     },
     "execution_count": 16,
     "metadata": {},
     "output_type": "execute_result"
    }
   ],
   "source": [
    "src.utils.df_inspect.DataFrameInspector(data_in)"
   ]
  },
  {
   "cell_type": "code",
   "execution_count": 17,
   "metadata": {},
   "outputs": [
    {
     "data": {
      "text/html": [
       "<div>\n",
       "<style scoped>\n",
       "    .dataframe tbody tr th:only-of-type {\n",
       "        vertical-align: middle;\n",
       "    }\n",
       "\n",
       "    .dataframe tbody tr th {\n",
       "        vertical-align: top;\n",
       "    }\n",
       "\n",
       "    .dataframe thead th {\n",
       "        text-align: right;\n",
       "    }\n",
       "</style>\n",
       "<table border=\"1\" class=\"dataframe\">\n",
       "  <thead>\n",
       "    <tr style=\"text-align: right;\">\n",
       "      <th></th>\n",
       "      <th>date</th>\n",
       "      <th>open</th>\n",
       "      <th>high</th>\n",
       "      <th>low</th>\n",
       "      <th>close</th>\n",
       "      <th>volume</th>\n",
       "    </tr>\n",
       "  </thead>\n",
       "  <tbody>\n",
       "    <tr>\n",
       "      <th>7495</th>\n",
       "      <td>2014-06-02</td>\n",
       "      <td>20.19</td>\n",
       "      <td>20.22</td>\n",
       "      <td>19.83</td>\n",
       "      <td>20.02</td>\n",
       "      <td>413,948,140.85</td>\n",
       "    </tr>\n",
       "    <tr>\n",
       "      <th>7496</th>\n",
       "      <td>2014-06-03</td>\n",
       "      <td>20.02</td>\n",
       "      <td>20.34</td>\n",
       "      <td>20.01</td>\n",
       "      <td>20.30</td>\n",
       "      <td>328,311,082.82</td>\n",
       "    </tr>\n",
       "    <tr>\n",
       "      <th>7497</th>\n",
       "      <td>2014-06-04</td>\n",
       "      <td>20.30</td>\n",
       "      <td>20.64</td>\n",
       "      <td>20.26</td>\n",
       "      <td>20.54</td>\n",
       "      <td>376,057,124.60</td>\n",
       "    </tr>\n",
       "    <tr>\n",
       "      <th>7498</th>\n",
       "      <td>2014-06-05</td>\n",
       "      <td>20.58</td>\n",
       "      <td>20.68</td>\n",
       "      <td>20.47</td>\n",
       "      <td>20.62</td>\n",
       "      <td>340,454,878.36</td>\n",
       "    </tr>\n",
       "    <tr>\n",
       "      <th>7499</th>\n",
       "      <td>2014-06-06</td>\n",
       "      <td>20.70</td>\n",
       "      <td>20.74</td>\n",
       "      <td>20.53</td>\n",
       "      <td>20.56</td>\n",
       "      <td>392,650,516.08</td>\n",
       "    </tr>\n",
       "    <tr>\n",
       "      <th>7500</th>\n",
       "      <td>2014-06-09</td>\n",
       "      <td>20.67</td>\n",
       "      <td>20.93</td>\n",
       "      <td>20.46</td>\n",
       "      <td>20.89</td>\n",
       "      <td>337,768,178.27</td>\n",
       "    </tr>\n",
       "    <tr>\n",
       "      <th>7501</th>\n",
       "      <td>2014-06-10</td>\n",
       "      <td>21.12</td>\n",
       "      <td>21.19</td>\n",
       "      <td>20.86</td>\n",
       "      <td>21.01</td>\n",
       "      <td>281,349,437.34</td>\n",
       "    </tr>\n",
       "    <tr>\n",
       "      <th>7502</th>\n",
       "      <td>2014-06-11</td>\n",
       "      <td>20.99</td>\n",
       "      <td>21.13</td>\n",
       "      <td>20.84</td>\n",
       "      <td>20.93</td>\n",
       "      <td>204,682,821.88</td>\n",
       "    </tr>\n",
       "    <tr>\n",
       "      <th>7503</th>\n",
       "      <td>2014-06-12</td>\n",
       "      <td>20.96</td>\n",
       "      <td>20.98</td>\n",
       "      <td>20.49</td>\n",
       "      <td>20.58</td>\n",
       "      <td>245,325,569.98</td>\n",
       "    </tr>\n",
       "    <tr>\n",
       "      <th>7504</th>\n",
       "      <td>2014-06-13</td>\n",
       "      <td>20.56</td>\n",
       "      <td>20.61</td>\n",
       "      <td>20.26</td>\n",
       "      <td>20.35</td>\n",
       "      <td>244,479,980.59</td>\n",
       "    </tr>\n",
       "    <tr>\n",
       "      <th>7505</th>\n",
       "      <td>2014-06-16</td>\n",
       "      <td>20.40</td>\n",
       "      <td>20.68</td>\n",
       "      <td>20.39</td>\n",
       "      <td>20.56</td>\n",
       "      <td>159,410,451.38</td>\n",
       "    </tr>\n",
       "    <tr>\n",
       "      <th>7506</th>\n",
       "      <td>2014-06-17</td>\n",
       "      <td>20.58</td>\n",
       "      <td>20.67</td>\n",
       "      <td>20.47</td>\n",
       "      <td>20.53</td>\n",
       "      <td>133,248,823.48</td>\n",
       "    </tr>\n",
       "    <tr>\n",
       "      <th>7507</th>\n",
       "      <td>2014-06-18</td>\n",
       "      <td>20.57</td>\n",
       "      <td>20.58</td>\n",
       "      <td>20.37</td>\n",
       "      <td>20.55</td>\n",
       "      <td>150,242,497.20</td>\n",
       "    </tr>\n",
       "    <tr>\n",
       "      <th>7508</th>\n",
       "      <td>2014-06-19</td>\n",
       "      <td>20.58</td>\n",
       "      <td>20.58</td>\n",
       "      <td>20.36</td>\n",
       "      <td>20.48</td>\n",
       "      <td>159,263,672.04</td>\n",
       "    </tr>\n",
       "    <tr>\n",
       "      <th>7509</th>\n",
       "      <td>2014-06-20</td>\n",
       "      <td>20.48</td>\n",
       "      <td>20.64</td>\n",
       "      <td>20.27</td>\n",
       "      <td>20.27</td>\n",
       "      <td>452,340,593.94</td>\n",
       "    </tr>\n",
       "    <tr>\n",
       "      <th>7510</th>\n",
       "      <td>2014-06-23</td>\n",
       "      <td>20.36</td>\n",
       "      <td>20.43</td>\n",
       "      <td>20.20</td>\n",
       "      <td>20.25</td>\n",
       "      <td>195,892,450.90</td>\n",
       "    </tr>\n",
       "    <tr>\n",
       "      <th>7511</th>\n",
       "      <td>2014-06-24</td>\n",
       "      <td>20.23</td>\n",
       "      <td>20.45</td>\n",
       "      <td>20.11</td>\n",
       "      <td>20.13</td>\n",
       "      <td>175,049,242.99</td>\n",
       "    </tr>\n",
       "    <tr>\n",
       "      <th>7512</th>\n",
       "      <td>2014-06-25</td>\n",
       "      <td>20.11</td>\n",
       "      <td>20.22</td>\n",
       "      <td>19.99</td>\n",
       "      <td>20.15</td>\n",
       "      <td>165,314,739.96</td>\n",
       "    </tr>\n",
       "    <tr>\n",
       "      <th>7513</th>\n",
       "      <td>2014-06-26</td>\n",
       "      <td>20.15</td>\n",
       "      <td>20.30</td>\n",
       "      <td>20.02</td>\n",
       "      <td>20.27</td>\n",
       "      <td>146,255,045.60</td>\n",
       "    </tr>\n",
       "    <tr>\n",
       "      <th>7514</th>\n",
       "      <td>2014-06-27</td>\n",
       "      <td>20.25</td>\n",
       "      <td>20.51</td>\n",
       "      <td>20.24</td>\n",
       "      <td>20.51</td>\n",
       "      <td>287,105,158.14</td>\n",
       "    </tr>\n",
       "    <tr>\n",
       "      <th>7515</th>\n",
       "      <td>2014-06-30</td>\n",
       "      <td>20.53</td>\n",
       "      <td>20.89</td>\n",
       "      <td>20.53</td>\n",
       "      <td>20.72</td>\n",
       "      <td>222,363,372.35</td>\n",
       "    </tr>\n",
       "  </tbody>\n",
       "</table>\n",
       "</div>"
      ],
      "text/plain": [
       "           date  open  high   low  close         volume\n",
       "7495 2014-06-02 20.19 20.22 19.83  20.02 413,948,140.85\n",
       "7496 2014-06-03 20.02 20.34 20.01  20.30 328,311,082.82\n",
       "7497 2014-06-04 20.30 20.64 20.26  20.54 376,057,124.60\n",
       "7498 2014-06-05 20.58 20.68 20.47  20.62 340,454,878.36\n",
       "7499 2014-06-06 20.70 20.74 20.53  20.56 392,650,516.08\n",
       "7500 2014-06-09 20.67 20.93 20.46  20.89 337,768,178.27\n",
       "7501 2014-06-10 21.12 21.19 20.86  21.01 281,349,437.34\n",
       "7502 2014-06-11 20.99 21.13 20.84  20.93 204,682,821.88\n",
       "7503 2014-06-12 20.96 20.98 20.49  20.58 245,325,569.98\n",
       "7504 2014-06-13 20.56 20.61 20.26  20.35 244,479,980.59\n",
       "7505 2014-06-16 20.40 20.68 20.39  20.56 159,410,451.38\n",
       "7506 2014-06-17 20.58 20.67 20.47  20.53 133,248,823.48\n",
       "7507 2014-06-18 20.57 20.58 20.37  20.55 150,242,497.20\n",
       "7508 2014-06-19 20.58 20.58 20.36  20.48 159,263,672.04\n",
       "7509 2014-06-20 20.48 20.64 20.27  20.27 452,340,593.94\n",
       "7510 2014-06-23 20.36 20.43 20.20  20.25 195,892,450.90\n",
       "7511 2014-06-24 20.23 20.45 20.11  20.13 175,049,242.99\n",
       "7512 2014-06-25 20.11 20.22 19.99  20.15 165,314,739.96\n",
       "7513 2014-06-26 20.15 20.30 20.02  20.27 146,255,045.60\n",
       "7514 2014-06-27 20.25 20.51 20.24  20.51 287,105,158.14\n",
       "7515 2014-06-30 20.53 20.89 20.53  20.72 222,363,372.35"
      ]
     },
     "execution_count": 17,
     "metadata": {},
     "output_type": "execute_result"
    }
   ],
   "source": [
    "# Checking wheter close price is adjusted for stock splits or not\n",
    "# Apple had 7:1 stock split in 2014-06-09\n",
    "data_in[(data_in[\"date\"].dt.year == 2014) & (data_in[\"date\"].dt.month == 6)]\n",
    "\n",
    "# Close price is adjusted"
   ]
  },
  {
   "cell_type": "markdown",
   "metadata": {},
   "source": [
    "### IV. Data manipulation\n",
    "\n",
    "Each time you download data from Stooq and receive new observations, you want to limit them to set dates for analysis.\n",
    "\n",
    "Notes: For production purposes this wouldn't have to be the case as we would probably let your model to re-train on new data once in a while and correct its predictions based on ground truth (actual data)."
   ]
  },
  {
   "cell_type": "code",
   "execution_count": 18,
   "metadata": {},
   "outputs": [
    {
     "data": {
      "text/plain": [
       "(9953, 6)"
      ]
     },
     "execution_count": 18,
     "metadata": {},
     "output_type": "execute_result"
    }
   ],
   "source": [
    "# Limit analysis to set-up dates in parameters\n",
    "data_in = data_in[(data_in[\"date\"] >= start_date) & (data_in[\"date\"] <= end_date)]\n",
    "data_in.shape"
   ]
  },
  {
   "cell_type": "markdown",
   "metadata": {},
   "source": [
    "### V. Train and test split\n",
    "\n",
    "Train - sample on which our forecasting model will train itself  \n",
    "Test - sample on which we will test quality of our models prediction  \n",
    "  \n",
    "Prophet (Hi Mark) requires you to set date variable as 'ds' and variable that we want to predict as 'y'.  \n",
    "Otherwise it won't work."
   ]
  },
  {
   "cell_type": "code",
   "execution_count": 19,
   "metadata": {},
   "outputs": [
    {
     "data": {
      "text/plain": [
       "'train dataset size:'"
      ]
     },
     "metadata": {},
     "output_type": "display_data"
    },
    {
     "data": {
      "text/plain": [
       "(9946, 2)"
      ]
     },
     "metadata": {},
     "output_type": "display_data"
    },
    {
     "data": {
      "text/plain": [
       "'train dataset size:'"
      ]
     },
     "metadata": {},
     "output_type": "display_data"
    },
    {
     "data": {
      "text/plain": [
       "(7, 2)"
      ]
     },
     "metadata": {},
     "output_type": "display_data"
    }
   ],
   "source": [
    "# Train and test split - forecast_days last observations are used as test set\n",
    "\n",
    "train = data_in[[\"date\", \"close\"]][:-forecast_days].copy()\n",
    "train.columns = [\"ds\", \"y\"]\n",
    "display(\"train dataset size:\", train.shape)\n",
    "\n",
    "test = data_in[[\"date\", \"close\"]][-forecast_days:].copy()\n",
    "test.columns = [\"ds\", \"y\"]\n",
    "display(\"train dataset size:\", test.shape)"
   ]
  },
  {
   "cell_type": "code",
   "execution_count": 20,
   "metadata": {},
   "outputs": [
    {
     "data": {
      "text/html": [
       "<div>\n",
       "<style scoped>\n",
       "    .dataframe tbody tr th:only-of-type {\n",
       "        vertical-align: middle;\n",
       "    }\n",
       "\n",
       "    .dataframe tbody tr th {\n",
       "        vertical-align: top;\n",
       "    }\n",
       "\n",
       "    .dataframe thead th {\n",
       "        text-align: right;\n",
       "    }\n",
       "</style>\n",
       "<table border=\"1\" class=\"dataframe\">\n",
       "  <thead>\n",
       "    <tr style=\"text-align: right;\">\n",
       "      <th></th>\n",
       "      <th>ds</th>\n",
       "      <th>y</th>\n",
       "    </tr>\n",
       "  </thead>\n",
       "  <tbody>\n",
       "    <tr>\n",
       "      <th>9941</th>\n",
       "      <td>2024-02-20</td>\n",
       "      <td>181.56</td>\n",
       "    </tr>\n",
       "    <tr>\n",
       "      <th>9942</th>\n",
       "      <td>2024-02-21</td>\n",
       "      <td>182.32</td>\n",
       "    </tr>\n",
       "    <tr>\n",
       "      <th>9943</th>\n",
       "      <td>2024-02-22</td>\n",
       "      <td>184.37</td>\n",
       "    </tr>\n",
       "    <tr>\n",
       "      <th>9944</th>\n",
       "      <td>2024-02-23</td>\n",
       "      <td>182.52</td>\n",
       "    </tr>\n",
       "    <tr>\n",
       "      <th>9945</th>\n",
       "      <td>2024-02-26</td>\n",
       "      <td>181.16</td>\n",
       "    </tr>\n",
       "  </tbody>\n",
       "</table>\n",
       "</div>"
      ],
      "text/plain": [
       "             ds      y\n",
       "9941 2024-02-20 181.56\n",
       "9942 2024-02-21 182.32\n",
       "9943 2024-02-22 184.37\n",
       "9944 2024-02-23 182.52\n",
       "9945 2024-02-26 181.16"
      ]
     },
     "execution_count": 20,
     "metadata": {},
     "output_type": "execute_result"
    }
   ],
   "source": [
    "# last observations of training dataset\n",
    "train.tail()"
   ]
  },
  {
   "cell_type": "code",
   "execution_count": 21,
   "metadata": {},
   "outputs": [
    {
     "data": {
      "text/html": [
       "<div>\n",
       "<style scoped>\n",
       "    .dataframe tbody tr th:only-of-type {\n",
       "        vertical-align: middle;\n",
       "    }\n",
       "\n",
       "    .dataframe tbody tr th {\n",
       "        vertical-align: top;\n",
       "    }\n",
       "\n",
       "    .dataframe thead th {\n",
       "        text-align: right;\n",
       "    }\n",
       "</style>\n",
       "<table border=\"1\" class=\"dataframe\">\n",
       "  <thead>\n",
       "    <tr style=\"text-align: right;\">\n",
       "      <th></th>\n",
       "      <th>ds</th>\n",
       "      <th>y</th>\n",
       "    </tr>\n",
       "  </thead>\n",
       "  <tbody>\n",
       "    <tr>\n",
       "      <th>9946</th>\n",
       "      <td>2024-02-27</td>\n",
       "      <td>182.63</td>\n",
       "    </tr>\n",
       "    <tr>\n",
       "      <th>9947</th>\n",
       "      <td>2024-02-28</td>\n",
       "      <td>181.42</td>\n",
       "    </tr>\n",
       "    <tr>\n",
       "      <th>9948</th>\n",
       "      <td>2024-02-29</td>\n",
       "      <td>180.75</td>\n",
       "    </tr>\n",
       "    <tr>\n",
       "      <th>9949</th>\n",
       "      <td>2024-03-01</td>\n",
       "      <td>179.66</td>\n",
       "    </tr>\n",
       "    <tr>\n",
       "      <th>9950</th>\n",
       "      <td>2024-03-04</td>\n",
       "      <td>175.10</td>\n",
       "    </tr>\n",
       "    <tr>\n",
       "      <th>9951</th>\n",
       "      <td>2024-03-05</td>\n",
       "      <td>170.12</td>\n",
       "    </tr>\n",
       "    <tr>\n",
       "      <th>9952</th>\n",
       "      <td>2024-03-06</td>\n",
       "      <td>169.12</td>\n",
       "    </tr>\n",
       "  </tbody>\n",
       "</table>\n",
       "</div>"
      ],
      "text/plain": [
       "             ds      y\n",
       "9946 2024-02-27 182.63\n",
       "9947 2024-02-28 181.42\n",
       "9948 2024-02-29 180.75\n",
       "9949 2024-03-01 179.66\n",
       "9950 2024-03-04 175.10\n",
       "9951 2024-03-05 170.12\n",
       "9952 2024-03-06 169.12"
      ]
     },
     "execution_count": 21,
     "metadata": {},
     "output_type": "execute_result"
    }
   ],
   "source": [
    "# our test dataset contents\n",
    "test"
   ]
  },
  {
   "cell_type": "markdown",
   "metadata": {},
   "source": [
    "### VI. Train model"
   ]
  },
  {
   "cell_type": "code",
   "execution_count": 35,
   "metadata": {},
   "outputs": [
    {
     "name": "stderr",
     "output_type": "stream",
     "text": [
      "07:18:08 - cmdstanpy - INFO - Chain [1] start processing\n",
      "07:18:20 - cmdstanpy - INFO - Chain [1] done processing\n"
     ]
    },
    {
     "data": {
      "text/plain": [
       "<prophet.forecaster.Prophet at 0x7fb6b0973890>"
      ]
     },
     "execution_count": 35,
     "metadata": {},
     "output_type": "execute_result"
    }
   ],
   "source": [
    "m = Prophet()\n",
    "m.fit(train)"
   ]
  },
  {
   "cell_type": "markdown",
   "metadata": {},
   "source": [
    "### VII. Use model to forecast the future"
   ]
  },
  {
   "cell_type": "code",
   "execution_count": 23,
   "metadata": {},
   "outputs": [
    {
     "data": {
      "text/html": [
       "<div>\n",
       "<style scoped>\n",
       "    .dataframe tbody tr th:only-of-type {\n",
       "        vertical-align: middle;\n",
       "    }\n",
       "\n",
       "    .dataframe tbody tr th {\n",
       "        vertical-align: top;\n",
       "    }\n",
       "\n",
       "    .dataframe thead th {\n",
       "        text-align: right;\n",
       "    }\n",
       "</style>\n",
       "<table border=\"1\" class=\"dataframe\">\n",
       "  <thead>\n",
       "    <tr style=\"text-align: right;\">\n",
       "      <th></th>\n",
       "      <th>ds</th>\n",
       "    </tr>\n",
       "  </thead>\n",
       "  <tbody>\n",
       "    <tr>\n",
       "      <th>9946</th>\n",
       "      <td>2024-02-27</td>\n",
       "    </tr>\n",
       "    <tr>\n",
       "      <th>9947</th>\n",
       "      <td>2024-02-28</td>\n",
       "    </tr>\n",
       "    <tr>\n",
       "      <th>9948</th>\n",
       "      <td>2024-02-29</td>\n",
       "    </tr>\n",
       "    <tr>\n",
       "      <th>9949</th>\n",
       "      <td>2024-03-01</td>\n",
       "    </tr>\n",
       "    <tr>\n",
       "      <th>9952</th>\n",
       "      <td>2024-03-04</td>\n",
       "    </tr>\n",
       "    <tr>\n",
       "      <th>9953</th>\n",
       "      <td>2024-03-05</td>\n",
       "    </tr>\n",
       "    <tr>\n",
       "      <th>9954</th>\n",
       "      <td>2024-03-06</td>\n",
       "    </tr>\n",
       "    <tr>\n",
       "      <th>9955</th>\n",
       "      <td>2024-03-07</td>\n",
       "    </tr>\n",
       "    <tr>\n",
       "      <th>9956</th>\n",
       "      <td>2024-03-08</td>\n",
       "    </tr>\n",
       "    <tr>\n",
       "      <th>9959</th>\n",
       "      <td>2024-03-11</td>\n",
       "    </tr>\n",
       "  </tbody>\n",
       "</table>\n",
       "</div>"
      ],
      "text/plain": [
       "             ds\n",
       "9946 2024-02-27\n",
       "9947 2024-02-28\n",
       "9948 2024-02-29\n",
       "9949 2024-03-01\n",
       "9952 2024-03-04\n",
       "9953 2024-03-05\n",
       "9954 2024-03-06\n",
       "9955 2024-03-07\n",
       "9956 2024-03-08\n",
       "9959 2024-03-11"
      ]
     },
     "execution_count": 23,
     "metadata": {},
     "output_type": "execute_result"
    }
   ],
   "source": [
    "future = m.make_future_dataframe(periods=2 * forecast_days)\n",
    "future = future[future[\"ds\"].dt.dayofweek < 5]  # exclude weekends\n",
    "future.tail(10)"
   ]
  },
  {
   "cell_type": "code",
   "execution_count": 24,
   "metadata": {},
   "outputs": [
    {
     "data": {
      "text/html": [
       "<div>\n",
       "<style scoped>\n",
       "    .dataframe tbody tr th:only-of-type {\n",
       "        vertical-align: middle;\n",
       "    }\n",
       "\n",
       "    .dataframe tbody tr th {\n",
       "        vertical-align: top;\n",
       "    }\n",
       "\n",
       "    .dataframe thead th {\n",
       "        text-align: right;\n",
       "    }\n",
       "</style>\n",
       "<table border=\"1\" class=\"dataframe\">\n",
       "  <thead>\n",
       "    <tr style=\"text-align: right;\">\n",
       "      <th></th>\n",
       "      <th>ds</th>\n",
       "      <th>yhat</th>\n",
       "      <th>yhat_lower</th>\n",
       "      <th>yhat_upper</th>\n",
       "    </tr>\n",
       "  </thead>\n",
       "  <tbody>\n",
       "    <tr>\n",
       "      <th>9951</th>\n",
       "      <td>2024-03-05</td>\n",
       "      <td>185.07</td>\n",
       "      <td>174.98</td>\n",
       "      <td>195.45</td>\n",
       "    </tr>\n",
       "    <tr>\n",
       "      <th>9952</th>\n",
       "      <td>2024-03-06</td>\n",
       "      <td>185.14</td>\n",
       "      <td>174.34</td>\n",
       "      <td>194.69</td>\n",
       "    </tr>\n",
       "    <tr>\n",
       "      <th>9953</th>\n",
       "      <td>2024-03-07</td>\n",
       "      <td>185.15</td>\n",
       "      <td>174.22</td>\n",
       "      <td>195.80</td>\n",
       "    </tr>\n",
       "    <tr>\n",
       "      <th>9954</th>\n",
       "      <td>2024-03-08</td>\n",
       "      <td>185.13</td>\n",
       "      <td>174.22</td>\n",
       "      <td>195.22</td>\n",
       "    </tr>\n",
       "    <tr>\n",
       "      <th>9955</th>\n",
       "      <td>2024-03-11</td>\n",
       "      <td>185.38</td>\n",
       "      <td>175.71</td>\n",
       "      <td>195.41</td>\n",
       "    </tr>\n",
       "  </tbody>\n",
       "</table>\n",
       "</div>"
      ],
      "text/plain": [
       "             ds   yhat  yhat_lower  yhat_upper\n",
       "9951 2024-03-05 185.07      174.98      195.45\n",
       "9952 2024-03-06 185.14      174.34      194.69\n",
       "9953 2024-03-07 185.15      174.22      195.80\n",
       "9954 2024-03-08 185.13      174.22      195.22\n",
       "9955 2024-03-11 185.38      175.71      195.41"
      ]
     },
     "execution_count": 24,
     "metadata": {},
     "output_type": "execute_result"
    }
   ],
   "source": [
    "# Predict the future\n",
    "forecast = m.predict(future)\n",
    "\n",
    "# yhat - forecasted value\n",
    "# yhat_lower - lower bound of forecast (uncertainty interval)\n",
    "# yhat_upper - upper bound of forecast (uncertainty interval)\n",
    "# https://facebook.github.io/prophet/docs/uncertainty_intervals.html\n",
    "forecast[[\"ds\", \"yhat\", \"yhat_lower\", \"yhat_upper\"]].tail()"
   ]
  },
  {
   "cell_type": "markdown",
   "metadata": {},
   "source": [
    "### VII. Evaluate models prediction"
   ]
  },
  {
   "cell_type": "code",
   "execution_count": 25,
   "metadata": {},
   "outputs": [
    {
     "data": {
      "text/html": [
       "<div>\n",
       "<style scoped>\n",
       "    .dataframe tbody tr th:only-of-type {\n",
       "        vertical-align: middle;\n",
       "    }\n",
       "\n",
       "    .dataframe tbody tr th {\n",
       "        vertical-align: top;\n",
       "    }\n",
       "\n",
       "    .dataframe thead th {\n",
       "        text-align: right;\n",
       "    }\n",
       "</style>\n",
       "<table border=\"1\" class=\"dataframe\">\n",
       "  <thead>\n",
       "    <tr style=\"text-align: right;\">\n",
       "      <th></th>\n",
       "      <th>ds</th>\n",
       "      <th>y</th>\n",
       "      <th>yhat</th>\n",
       "      <th>yhat_lower</th>\n",
       "      <th>yhat_upper</th>\n",
       "    </tr>\n",
       "  </thead>\n",
       "  <tbody>\n",
       "    <tr>\n",
       "      <th>2</th>\n",
       "      <td>2024-02-29</td>\n",
       "      <td>180.75</td>\n",
       "      <td>184.93</td>\n",
       "      <td>174.82</td>\n",
       "      <td>195.58</td>\n",
       "    </tr>\n",
       "    <tr>\n",
       "      <th>3</th>\n",
       "      <td>2024-03-01</td>\n",
       "      <td>179.66</td>\n",
       "      <td>184.86</td>\n",
       "      <td>174.69</td>\n",
       "      <td>195.60</td>\n",
       "    </tr>\n",
       "    <tr>\n",
       "      <th>4</th>\n",
       "      <td>2024-03-04</td>\n",
       "      <td>175.10</td>\n",
       "      <td>185.01</td>\n",
       "      <td>175.27</td>\n",
       "      <td>195.06</td>\n",
       "    </tr>\n",
       "    <tr>\n",
       "      <th>5</th>\n",
       "      <td>2024-03-05</td>\n",
       "      <td>170.12</td>\n",
       "      <td>185.07</td>\n",
       "      <td>174.98</td>\n",
       "      <td>195.45</td>\n",
       "    </tr>\n",
       "    <tr>\n",
       "      <th>6</th>\n",
       "      <td>2024-03-06</td>\n",
       "      <td>169.12</td>\n",
       "      <td>185.14</td>\n",
       "      <td>174.34</td>\n",
       "      <td>194.69</td>\n",
       "    </tr>\n",
       "  </tbody>\n",
       "</table>\n",
       "</div>"
      ],
      "text/plain": [
       "          ds      y   yhat  yhat_lower  yhat_upper\n",
       "2 2024-02-29 180.75 184.93      174.82      195.58\n",
       "3 2024-03-01 179.66 184.86      174.69      195.60\n",
       "4 2024-03-04 175.10 185.01      175.27      195.06\n",
       "5 2024-03-05 170.12 185.07      174.98      195.45\n",
       "6 2024-03-06 169.12 185.14      174.34      194.69"
      ]
     },
     "execution_count": 25,
     "metadata": {},
     "output_type": "execute_result"
    }
   ],
   "source": [
    "# Compare ground truth y with forecast yhat\n",
    "test_forecast = test.merge(\n",
    "    forecast[[\"ds\", \"yhat\", \"yhat_lower\", \"yhat_upper\"]], on=\"ds\", how=\"left\"\n",
    ")\n",
    "test_forecast.tail()"
   ]
  },
  {
   "cell_type": "code",
   "execution_count": 26,
   "metadata": {},
   "outputs": [],
   "source": [
    "full_sample = pd.concat([train, test_forecast], ignore_index=True, sort=False)\n",
    "full_sample = full_sample[\n",
    "    full_sample[\"y\"].notnull()\n",
    "]  # remove rows without ground truth"
   ]
  },
  {
   "cell_type": "code",
   "execution_count": 27,
   "metadata": {},
   "outputs": [
    {
     "data": {
      "text/html": [
       "<div>\n",
       "<style scoped>\n",
       "    .dataframe tbody tr th:only-of-type {\n",
       "        vertical-align: middle;\n",
       "    }\n",
       "\n",
       "    .dataframe tbody tr th {\n",
       "        vertical-align: top;\n",
       "    }\n",
       "\n",
       "    .dataframe thead th {\n",
       "        text-align: right;\n",
       "    }\n",
       "</style>\n",
       "<table border=\"1\" class=\"dataframe\">\n",
       "  <thead>\n",
       "    <tr style=\"text-align: right;\">\n",
       "      <th></th>\n",
       "      <th>ds</th>\n",
       "      <th>y</th>\n",
       "      <th>yhat</th>\n",
       "      <th>yhat_lower</th>\n",
       "      <th>yhat_upper</th>\n",
       "    </tr>\n",
       "  </thead>\n",
       "  <tbody>\n",
       "    <tr>\n",
       "      <th>9939</th>\n",
       "      <td>2024-02-15</td>\n",
       "      <td>183.86</td>\n",
       "      <td>NaN</td>\n",
       "      <td>NaN</td>\n",
       "      <td>NaN</td>\n",
       "    </tr>\n",
       "    <tr>\n",
       "      <th>9940</th>\n",
       "      <td>2024-02-16</td>\n",
       "      <td>182.31</td>\n",
       "      <td>NaN</td>\n",
       "      <td>NaN</td>\n",
       "      <td>NaN</td>\n",
       "    </tr>\n",
       "    <tr>\n",
       "      <th>9941</th>\n",
       "      <td>2024-02-20</td>\n",
       "      <td>181.56</td>\n",
       "      <td>NaN</td>\n",
       "      <td>NaN</td>\n",
       "      <td>NaN</td>\n",
       "    </tr>\n",
       "    <tr>\n",
       "      <th>9942</th>\n",
       "      <td>2024-02-21</td>\n",
       "      <td>182.32</td>\n",
       "      <td>NaN</td>\n",
       "      <td>NaN</td>\n",
       "      <td>NaN</td>\n",
       "    </tr>\n",
       "    <tr>\n",
       "      <th>9943</th>\n",
       "      <td>2024-02-22</td>\n",
       "      <td>184.37</td>\n",
       "      <td>NaN</td>\n",
       "      <td>NaN</td>\n",
       "      <td>NaN</td>\n",
       "    </tr>\n",
       "    <tr>\n",
       "      <th>9944</th>\n",
       "      <td>2024-02-23</td>\n",
       "      <td>182.52</td>\n",
       "      <td>NaN</td>\n",
       "      <td>NaN</td>\n",
       "      <td>NaN</td>\n",
       "    </tr>\n",
       "    <tr>\n",
       "      <th>9945</th>\n",
       "      <td>2024-02-26</td>\n",
       "      <td>181.16</td>\n",
       "      <td>NaN</td>\n",
       "      <td>NaN</td>\n",
       "      <td>NaN</td>\n",
       "    </tr>\n",
       "    <tr>\n",
       "      <th>9946</th>\n",
       "      <td>2024-02-27</td>\n",
       "      <td>182.63</td>\n",
       "      <td>184.91</td>\n",
       "      <td>174.72</td>\n",
       "      <td>194.77</td>\n",
       "    </tr>\n",
       "    <tr>\n",
       "      <th>9947</th>\n",
       "      <td>2024-02-28</td>\n",
       "      <td>181.42</td>\n",
       "      <td>184.95</td>\n",
       "      <td>174.92</td>\n",
       "      <td>194.75</td>\n",
       "    </tr>\n",
       "    <tr>\n",
       "      <th>9948</th>\n",
       "      <td>2024-02-29</td>\n",
       "      <td>180.75</td>\n",
       "      <td>184.93</td>\n",
       "      <td>174.82</td>\n",
       "      <td>195.58</td>\n",
       "    </tr>\n",
       "    <tr>\n",
       "      <th>9949</th>\n",
       "      <td>2024-03-01</td>\n",
       "      <td>179.66</td>\n",
       "      <td>184.86</td>\n",
       "      <td>174.69</td>\n",
       "      <td>195.60</td>\n",
       "    </tr>\n",
       "    <tr>\n",
       "      <th>9950</th>\n",
       "      <td>2024-03-04</td>\n",
       "      <td>175.10</td>\n",
       "      <td>185.01</td>\n",
       "      <td>175.27</td>\n",
       "      <td>195.06</td>\n",
       "    </tr>\n",
       "    <tr>\n",
       "      <th>9951</th>\n",
       "      <td>2024-03-05</td>\n",
       "      <td>170.12</td>\n",
       "      <td>185.07</td>\n",
       "      <td>174.98</td>\n",
       "      <td>195.45</td>\n",
       "    </tr>\n",
       "    <tr>\n",
       "      <th>9952</th>\n",
       "      <td>2024-03-06</td>\n",
       "      <td>169.12</td>\n",
       "      <td>185.14</td>\n",
       "      <td>174.34</td>\n",
       "      <td>194.69</td>\n",
       "    </tr>\n",
       "  </tbody>\n",
       "</table>\n",
       "</div>"
      ],
      "text/plain": [
       "             ds      y   yhat  yhat_lower  yhat_upper\n",
       "9939 2024-02-15 183.86    NaN         NaN         NaN\n",
       "9940 2024-02-16 182.31    NaN         NaN         NaN\n",
       "9941 2024-02-20 181.56    NaN         NaN         NaN\n",
       "9942 2024-02-21 182.32    NaN         NaN         NaN\n",
       "9943 2024-02-22 184.37    NaN         NaN         NaN\n",
       "9944 2024-02-23 182.52    NaN         NaN         NaN\n",
       "9945 2024-02-26 181.16    NaN         NaN         NaN\n",
       "9946 2024-02-27 182.63 184.91      174.72      194.77\n",
       "9947 2024-02-28 181.42 184.95      174.92      194.75\n",
       "9948 2024-02-29 180.75 184.93      174.82      195.58\n",
       "9949 2024-03-01 179.66 184.86      174.69      195.60\n",
       "9950 2024-03-04 175.10 185.01      175.27      195.06\n",
       "9951 2024-03-05 170.12 185.07      174.98      195.45\n",
       "9952 2024-03-06 169.12 185.14      174.34      194.69"
      ]
     },
     "execution_count": 27,
     "metadata": {},
     "output_type": "execute_result"
    }
   ],
   "source": [
    "full_sample.tail(2 * forecast_days)"
   ]
  },
  {
   "cell_type": "code",
   "execution_count": 28,
   "metadata": {},
   "outputs": [
    {
     "data": {
      "text/plain": [
       "185.02285714285713"
      ]
     },
     "execution_count": 28,
     "metadata": {},
     "output_type": "execute_result"
    }
   ],
   "source": [
    "# It seem's that our predition (yhat) is revolving around train dataset's last 14 days average value (y)\n",
    "np.mean(train[\"y\"][-14:])"
   ]
  },
  {
   "cell_type": "code",
   "execution_count": 29,
   "metadata": {},
   "outputs": [
    {
     "data": {
      "image/png": "[encoded data removed]",
      "text/plain": [
       "<Figure size 1200x600 with 1 Axes>"
      ]
     },
     "metadata": {},
     "output_type": "display_data"
    }
   ],
   "source": [
    "# Plotting\n",
    "src.visualization.visualize.prophet_plot_forecast(\n",
    "    data=full_sample, title=stock, obs=forecast_days\n",
    ")"
   ]
  },
  {
   "cell_type": "markdown",
   "metadata": {},
   "source": [
    "Short-term prediction using default model is doesn't really predict price variations but allocates values revolving around latest mean prices.\n",
    "\n",
    "For prediction purposes - this is not great.\n",
    "For investment purposes:\n",
    "* If we would buy a contract that stock price would reach 184,5 USD, we would lose money during prediction period.\n",
    "* If we would buy APPL stocks on 2024-02-15 for 183,86 USD (let's skip commision for the sake of argument) and sell them 2024-02-22, we would gain 0,51 USD per share. That's 0,28% profit (but in real-life we would have to pay comission twice - that would most probably eat all gains & more)."
   ]
  },
  {
   "cell_type": "code",
   "execution_count": 30,
   "metadata": {},
   "outputs": [],
   "source": [
    "# Export full dataset\n",
    "full_sample.to_csv(paths[\"data_processed\"] + \"forecast_full_sample.csv\", index=False)"
   ]
  },
  {
   "cell_type": "code",
   "execution_count": 31,
   "metadata": {},
   "outputs": [
    {
     "data": {
      "image/png": "[encoded data removed]",
      "text/plain": [
       "<Figure size 800x600 with 1 Axes>"
      ]
     },
     "metadata": {},
     "output_type": "display_data"
    }
   ],
   "source": [
    "# Prediction errors\n",
    "src.visualization.visualize.plot_forecast_error(\n",
    "    data=full_sample, title=\"AAPL\", path=paths[\"reports_figures\"]\n",
    ")\n",
    "\n",
    "# image of a poor prophet\n",
    "# bad prophet, bad"
   ]
  },
  {
   "cell_type": "markdown",
   "metadata": {},
   "source": [
    "### IX. Exporting your model for future use\n",
    "\n",
    "For Prophet (Hi Mark) there can be problems with pickling -> hence we use serialization\n",
    "https://facebook.github.io/prophet/docs/serialization.html"
   ]
  },
  {
   "cell_type": "code",
   "execution_count": 32,
   "metadata": {},
   "outputs": [],
   "source": [
    "# Python serializing\n",
    "\n",
    "\n",
    "with open(paths[\"models\"] + model_name + \".json\", \"w\") as fout:\n",
    "    fout.write(model_to_json(m))  # Save model"
   ]
  },
  {
   "cell_type": "code",
   "execution_count": 33,
   "metadata": {},
   "outputs": [],
   "source": [
    "with open(paths[\"models\"] + model_name + \".json\", \"r\") as fin:\n",
    "    m_test = model_from_json(fin.read())  # Load model"
   ]
  },
  {
   "cell_type": "markdown",
   "metadata": {},
   "source": [
    "### X. Check if your re-loaded model predicts same values as the old one"
   ]
  },
  {
   "cell_type": "markdown",
   "metadata": {},
   "source": [
    "https://github.com/facebook/prophet/issues/1124\n",
    "\n",
    "Stochasticity comes in the prediction stage, and derives entirely from the trend uncertainty estimation. Increasing uncertainty_samples reduces variance in yhat_upper but it is still stochastic.\n",
    "\n",
    "np.random.seed() controls randomness in the process."
   ]
  },
  {
   "cell_type": "code",
   "execution_count": 34,
   "metadata": {},
   "outputs": [
    {
     "name": "stdout",
     "output_type": "stream",
     "text": [
      "Are the two DataFrames the same? True\n"
     ]
    }
   ],
   "source": [
    "# this is not DRY - but why?\n",
    "# you have to set random seed again before every Prophet preidction - checked empirically\n",
    "np.random.seed(seed)\n",
    "forecast_check = m_test.predict(future)\n",
    "\n",
    "# Assuming df1 and df2 are your DataFrames\n",
    "\n",
    "\n",
    "try:\n",
    "    pandas.testing.assert_frame_equal(forecast, forecast_check)\n",
    "    are_completely_same = True\n",
    "except AssertionError:\n",
    "    are_completely_same = False\n",
    "print(f\"Are the two DataFrames the same? {are_completely_same}\")\n",
    "\n",
    "# confidence intervals yhat_lower and yhat_uppe would be different if we wouldnt set np.random.seed(seed) to constant value"
   ]
  },
  {
   "cell_type": "markdown",
   "metadata": {},
   "source": [
    "Done! Your model is serialized and ready to use in other projects!\n",
    "\n",
    "Also:\n",
    "* you can create similar models by just changing the parameters section\n",
    "* you can go back at any time to your project and have the same results\n",
    "* project structure is nice and clear\n",
    "* you can re-use written modules and functiones in other project without searching for them in the notebook"
   ]
  }
 ],
 "metadata": {
  "kernelspec": {
   "display_name": "Python 3",
   "language": "python",
   "name": "python3"
  },
  "language_info": {
   "codemirror_mode": {
    "name": "ipython",
    "version": 3
   },
   "file_extension": ".py",
   "mimetype": "text/x-python",
   "name": "python",
   "nbconvert_exporter": "python",
   "pygments_lexer": "ipython3",
   "version": "3.11.8"
  }
 },
 "nbformat": 4,
 "nbformat_minor": 2
}
