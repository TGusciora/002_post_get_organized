{
 "cells": [
  {
   "cell_type": "code",
   "execution_count": 1,
   "metadata": {},
   "outputs": [
    {
     "name": "stderr",
     "output_type": "stream",
     "text": [
      "ERROR: The host name 'server.demo.sas.com' could not be found.\n"
     ]
    },
    {
     "ename": "SWATError",
     "evalue": "Could not connect to 'server.demo.sas.com' on port 30571.",
     "output_type": "error",
     "traceback": [
      "\u001b[0;31m---------------------------------------------------------------------------\u001b[0m",
      "\u001b[0;31mSystemError\u001b[0m                               Traceback (most recent call last)",
      "File \u001b[0;32m/usr/local/lib/python3.11/site-packages/swat/cas/connection.py:441\u001b[0m, in \u001b[0;36mCAS.__init__\u001b[0;34m(self, hostname, port, username, password, session, locale, nworkers, name, authinfo, protocol, path, ssl_ca_list, authcode, **kwargs)\u001b[0m\n\u001b[1;32m    440\u001b[0m \u001b[38;5;28;01melse\u001b[39;00m:\n\u001b[0;32m--> 441\u001b[0m     \u001b[38;5;28mself\u001b[39m\u001b[38;5;241m.\u001b[39m_sw_connection \u001b[38;5;241m=\u001b[39m \u001b[43mclib\u001b[49m\u001b[38;5;241;43m.\u001b[39;49m\u001b[43mSW_CASConnection\u001b[49m\u001b[43m(\u001b[49m\u001b[38;5;241;43m*\u001b[39;49m\u001b[43mparams\u001b[49m\u001b[43m)\u001b[49m\n\u001b[1;32m    443\u001b[0m \u001b[38;5;66;03m# If we don't have a connection, bail out.\u001b[39;00m\n",
      "File \u001b[0;32m/usr/local/lib/python3.11/site-packages/swat/clib.py:133\u001b[0m, in \u001b[0;36mSW_CASConnection\u001b[0;34m(*args, **kwargs)\u001b[0m\n\u001b[1;32m    132\u001b[0m     _import_pyswat()\n\u001b[0;32m--> 133\u001b[0m \u001b[38;5;28;01mreturn\u001b[39;00m \u001b[43m_pyswat\u001b[49m\u001b[38;5;241;43m.\u001b[39;49m\u001b[43mSW_CASConnection\u001b[49m\u001b[43m(\u001b[49m\u001b[38;5;241;43m*\u001b[39;49m\u001b[43margs\u001b[49m\u001b[43m,\u001b[49m\u001b[43m \u001b[49m\u001b[38;5;241;43m*\u001b[39;49m\u001b[38;5;241;43m*\u001b[39;49m\u001b[43mkwargs\u001b[49m\u001b[43m)\u001b[49m\n",
      "\u001b[0;31mSystemError\u001b[0m: <class 'py311swat.SW_CASConnection'> returned NULL without setting an exception",
      "\nDuring handling of the above exception, another exception occurred:\n",
      "\u001b[0;31mSWATError\u001b[0m                                 Traceback (most recent call last)",
      "Cell \u001b[0;32mIn[1], line 4\u001b[0m\n\u001b[1;32m      1\u001b[0m \u001b[38;5;66;03m# SAS SWAT connection test\u001b[39;00m\n\u001b[1;32m      2\u001b[0m \u001b[38;5;28;01mimport\u001b[39;00m \u001b[38;5;21;01mswat\u001b[39;00m\n\u001b[0;32m----> 4\u001b[0m conn \u001b[38;5;241m=\u001b[39m \u001b[43mswat\u001b[49m\u001b[38;5;241;43m.\u001b[39;49m\u001b[43mCAS\u001b[49m\u001b[43m(\u001b[49m\u001b[38;5;124;43m'\u001b[39;49m\u001b[38;5;124;43mserver.demo.sas.com\u001b[39;49m\u001b[38;5;124;43m'\u001b[39;49m\u001b[43m,\u001b[49m\u001b[43m \u001b[49m\u001b[38;5;241;43m30571\u001b[39;49m\u001b[43m,\u001b[49m\u001b[43m \u001b[49m\u001b[38;5;124;43m'\u001b[39;49m\u001b[38;5;124;43mstudent\u001b[39;49m\u001b[38;5;124;43m'\u001b[39;49m\u001b[43m,\u001b[49m\u001b[43m \u001b[49m\u001b[38;5;124;43m'\u001b[39;49m\u001b[38;5;124;43mMetadata0\u001b[39;49m\u001b[38;5;124;43m'\u001b[39;49m\u001b[43m,\u001b[49m\u001b[43m \u001b[49m\u001b[43mname\u001b[49m\u001b[38;5;241;43m=\u001b[39;49m\u001b[38;5;124;43m'\u001b[39;49m\u001b[38;5;124;43mpy00d01\u001b[39;49m\u001b[38;5;124;43m'\u001b[39;49m\u001b[43m)\u001b[49m\n",
      "File \u001b[0;32m/usr/local/lib/python3.11/site-packages/swat/cas/connection.py:448\u001b[0m, in \u001b[0;36mCAS.__init__\u001b[0;34m(self, hostname, port, username, password, session, locale, nworkers, name, authinfo, protocol, path, ssl_ca_list, authcode, **kwargs)\u001b[0m\n\u001b[1;32m    445\u001b[0m             \u001b[38;5;28;01mraise\u001b[39;00m \u001b[38;5;167;01mSystemError\u001b[39;00m\n\u001b[1;32m    447\u001b[0m \u001b[38;5;28;01mexcept\u001b[39;00m \u001b[38;5;167;01mSystemError\u001b[39;00m:\n\u001b[0;32m--> 448\u001b[0m     \u001b[38;5;28;01mraise\u001b[39;00m SWATError(\u001b[38;5;28mself\u001b[39m\u001b[38;5;241m.\u001b[39m_sw_error\u001b[38;5;241m.\u001b[39mgetLastErrorMessage())\n\u001b[1;32m    450\u001b[0m \u001b[38;5;66;03m# Set up index origin for error messages\u001b[39;00m\n\u001b[1;32m    451\u001b[0m errorcheck(\u001b[38;5;28mself\u001b[39m\u001b[38;5;241m.\u001b[39m_sw_connection\u001b[38;5;241m.\u001b[39msetZeroIndexedParameters(), \u001b[38;5;28mself\u001b[39m\u001b[38;5;241m.\u001b[39m_sw_connection)\n",
      "\u001b[0;31mSWATError\u001b[0m: Could not connect to 'server.demo.sas.com' on port 30571."
     ]
    }
   ],
   "source": [
    "# SAS SWAT connection test\n",
    "import swat\n",
    "\n",
    "conn = swat.CAS('server.demo.sas.com', 30571, 'student', 'Metadata0', name='py00d01')"
   ]
  }
 ],
 "metadata": {
  "kernelspec": {
   "display_name": "Python 3",
   "language": "python",
   "name": "python3"
  },
  "language_info": {
   "codemirror_mode": {
    "name": "ipython",
    "version": 3
   },
   "file_extension": ".py",
   "mimetype": "text/x-python",
   "name": "python",
   "nbconvert_exporter": "python",
   "pygments_lexer": "ipython3",
   "version": "3.11.8"
  }
 },
 "nbformat": 4,
 "nbformat_minor": 2
}
